{
  "cells": [
    {
      "cell_type": "code",
      "source": [
        "import os\n",
        "import numpy as np\n",
        "import pandas as pd\n",
        "import matplotlib.pyplot as plt\n",
        "import os, json, sys\n",
        "\n",
        "from azure.ai.ml import command\n",
        "from azure.ai.ml.entities import Data, AmlCompute, Environment\n",
        "from azure.ai.ml.entities import AzureBlobDatastore\n",
        "from azure.ai.ml import Input\n",
        "from azure.ai.ml.constants import AssetTypes, InputOutputModes\n",
        "\n",
        "from azure.ai.ml.entities import (\n",
        "    ManagedOnlineEndpoint,\n",
        "    ManagedOnlineDeployment,\n",
        "    Model,\n",
        "    Environment,\n",
        "    CodeConfiguration,\n",
        ")"
      ],
      "outputs": [],
      "execution_count": 1,
      "metadata": {
        "gather": {
          "logged": 1675206111218
        }
      }
    },
    {
      "cell_type": "code",
      "source": [
        "# Handle to the workspace\n",
        "from azure.ai.ml import MLClient\n",
        "\n",
        "# Authentication package\n",
        "from azure.identity import DefaultAzureCredential\n",
        "\n",
        "credential = DefaultAzureCredential()"
      ],
      "outputs": [],
      "execution_count": 2,
      "metadata": {
        "gather": {
          "logged": 1675206113044
        }
      }
    },
    {
      "cell_type": "code",
      "source": [
        "with open(\"./config.json\") as f:\n",
        "    config = json.load(f)\n",
        "print(config)"
      ],
      "outputs": [
        {
          "output_type": "stream",
          "name": "stdout",
          "text": "{'subscription_id': '1fad602f-d06f-46af-8f70-78a2c2c53b24', 'resource_group': 'MLGroup', 'workspace_name': 'shivamlservice'}\n"
        }
      ],
      "execution_count": 3,
      "metadata": {
        "gather": {
          "logged": 1675206115362
        }
      }
    },
    {
      "cell_type": "code",
      "source": [
        "workspace_name = config[\"workspace_name\"]\n",
        "resource_group = config[\"resource_group\"]\n",
        "subscription_id = config[\"subscription_id\"]\n"
      ],
      "outputs": [],
      "execution_count": 4,
      "metadata": {
        "gather": {
          "logged": 1675206117243
        }
      }
    },
    {
      "cell_type": "code",
      "source": [
        "# Get a handle to the workspace\n",
        "ml_client = MLClient(\n",
        "    credential=credential,\n",
        "    subscription_id=subscription_id,\n",
        "    resource_group_name=resource_group,\n",
        "    workspace_name=workspace_name,\n",
        ")\n",
        "ml_client"
      ],
      "outputs": [
        {
          "output_type": "execute_result",
          "execution_count": 5,
          "data": {
            "text/plain": "MLClient(credential=<azure.identity._credentials.default.DefaultAzureCredential object at 0x7f23e3162380>,\n         subscription_id=1fad602f-d06f-46af-8f70-78a2c2c53b24,\n         resource_group_name=MLGroup,\n         workspace_name=shivamlservice)"
          },
          "metadata": {}
        }
      ],
      "execution_count": 5,
      "metadata": {
        "gather": {
          "logged": 1675206119371
        }
      }
    },
    {
      "cell_type": "code",
      "source": [
        "import os\n",
        "\n",
        "dependencies_dir = \"./environment_setup\"\n",
        "os.makedirs(dependencies_dir, exist_ok=True)"
      ],
      "outputs": [],
      "execution_count": 6,
      "metadata": {
        "gather": {
          "logged": 1675206126619
        }
      }
    },
    {
      "cell_type": "code",
      "source": [
        "%%writefile {dependencies_dir}/conda.yml\n",
        "name: spam-mlops-env\n",
        "channels:\n",
        "  - conda-forge\n",
        "dependencies:\n",
        "  - python=3.8\n",
        "  - pip=21.2.4\n",
        "  - scikit-learn=0.24.2\n",
        "  - scipy=1.7.1\n",
        "  - pip:  \n",
        "    - mlflow== 1.26.1\n",
        "    - azureml-mlflow==1.42.0\n",
        "    - numpy\n",
        "    - pandas\n",
        "    - matplotlib\n",
        "   "
      ],
      "outputs": [
        {
          "output_type": "stream",
          "name": "stdout",
          "text": "Overwriting ./environment_setup/conda.yml\n"
        }
      ],
      "execution_count": 7,
      "metadata": {}
    },
    {
      "cell_type": "code",
      "source": [
        "\"\"\"Load labeled spam dataset.\"\"\"\n",
        "\n",
        "# Path where csv files are located\n",
        "base_path = \"./data/csv_data\"\n",
        "\n",
        "# List of csv files with full path\n",
        "csv_files = [os.path.join(base_path, csv) for csv in os.listdir(base_path)]\n",
        "\n",
        "dfs = []\n",
        "# List of dataframes for each file\n",
        "for filename in csv_files:\n",
        "    if filename.endswith('.csv'):\n",
        "        dfs.append(pd.read_csv(filename))\n",
        "        \n",
        "# Concatenate all data into one DataFrame\n",
        "df = pd.concat(dfs)\n",
        "\n",
        "# Rename columns\n",
        "df = df.rename(columns={\"CONTENT\": \"text\", \"CLASS\": \"label\"})\n",
        "\n",
        "# Set a seed for the order of rows\n",
        "df = df.sample(frac=1, random_state=824)\n",
        "\n",
        "df = df.reset_index()\n",
        "\n",
        "df.tail()\n"
      ],
      "outputs": [
        {
          "output_type": "execute_result",
          "execution_count": 8,
          "data": {
            "text/plain": "      index                             COMMENT_ID               AUTHOR  \\\n1133     69  z12qvnw51y31ulrx304cjbkq1yzqzdkiytg0k       jessica durham   \n1134    206  z13wt1vrismyzpiij04cj5vz4nzlyj4yfzo0k   Alexander Mcdonald   \n1135    127    z13rfjuxmtm3vd2eb23qi1brgq3ic5nxv04  Marshmallow Kingdom   \n1136    237  z13iwppp5kf4gnyxn04cjns5kzn4xd0qdwk0k  juanmanuel cespedes   \n1137    133      z12de5li5lzwcbblp23gc11zmli4t5r10     Dicky Tricahyadi   \n\n                            DATE  \\\n1133         2014-09-09T06:10:07   \n1134         2014-10-13T09:19:13   \n1135  2015-05-20T12:40:57.549000   \n1136         2014-11-07T22:59:13   \n1137  2015-05-20T05:49:45.161000   \n\n                                                   text  label  \n1133  Please help me give my son a grave.  http://ww...      1  \n1134  Anyone Who LOVEs music , please go check out m...      1  \n1135                       THUMBS UP FOR ROBO GUY BABY﻿      0  \n1136  i hate this music. fucking singer and every ko...      0  \n1137                                 LMFAO IS THE BEST﻿      0  ",
            "text/html": "<div>\n<style scoped>\n    .dataframe tbody tr th:only-of-type {\n        vertical-align: middle;\n    }\n\n    .dataframe tbody tr th {\n        vertical-align: top;\n    }\n\n    .dataframe thead th {\n        text-align: right;\n    }\n</style>\n<table border=\"1\" class=\"dataframe\">\n  <thead>\n    <tr style=\"text-align: right;\">\n      <th></th>\n      <th>index</th>\n      <th>COMMENT_ID</th>\n      <th>AUTHOR</th>\n      <th>DATE</th>\n      <th>text</th>\n      <th>label</th>\n    </tr>\n  </thead>\n  <tbody>\n    <tr>\n      <th>1133</th>\n      <td>69</td>\n      <td>z12qvnw51y31ulrx304cjbkq1yzqzdkiytg0k</td>\n      <td>jessica durham</td>\n      <td>2014-09-09T06:10:07</td>\n      <td>Please help me give my son a grave.  http://ww...</td>\n      <td>1</td>\n    </tr>\n    <tr>\n      <th>1134</th>\n      <td>206</td>\n      <td>z13wt1vrismyzpiij04cj5vz4nzlyj4yfzo0k</td>\n      <td>Alexander Mcdonald</td>\n      <td>2014-10-13T09:19:13</td>\n      <td>Anyone Who LOVEs music , please go check out m...</td>\n      <td>1</td>\n    </tr>\n    <tr>\n      <th>1135</th>\n      <td>127</td>\n      <td>z13rfjuxmtm3vd2eb23qi1brgq3ic5nxv04</td>\n      <td>Marshmallow Kingdom</td>\n      <td>2015-05-20T12:40:57.549000</td>\n      <td>THUMBS UP FOR ROBO GUY BABY﻿</td>\n      <td>0</td>\n    </tr>\n    <tr>\n      <th>1136</th>\n      <td>237</td>\n      <td>z13iwppp5kf4gnyxn04cjns5kzn4xd0qdwk0k</td>\n      <td>juanmanuel cespedes</td>\n      <td>2014-11-07T22:59:13</td>\n      <td>i hate this music. fucking singer and every ko...</td>\n      <td>0</td>\n    </tr>\n    <tr>\n      <th>1137</th>\n      <td>133</td>\n      <td>z12de5li5lzwcbblp23gc11zmli4t5r10</td>\n      <td>Dicky Tricahyadi</td>\n      <td>2015-05-20T05:49:45.161000</td>\n      <td>LMFAO IS THE BEST﻿</td>\n      <td>0</td>\n    </tr>\n  </tbody>\n</table>\n</div>"
          },
          "metadata": {}
        }
      ],
      "execution_count": 8,
      "metadata": {
        "gather": {
          "logged": 1675206129376
        }
      }
    },
    {
      "cell_type": "code",
      "source": [
        "# Print actual value count\n",
        "print(f\"Value counts for each class:\\n\\n{df.label.value_counts()}\\n\")\n",
        "\n",
        "# Display pie chart to visually check the proportion\n",
        "df.label.value_counts().plot.pie(y='label', title='Proportion of each class')\n",
        "plt.show()"
      ],
      "outputs": [
        {
          "output_type": "stream",
          "name": "stdout",
          "text": "Value counts for each class:\n\n1    586\n0    552\nName: label, dtype: int64\n\n"
        },
        {
          "output_type": "display_data",
          "data": {
            "text/plain": "<Figure size 432x288 with 1 Axes>",
            "image/png": "[encoded data removed]"
          },
          "metadata": {}
        }
      ],
      "execution_count": 9,
      "metadata": {
        "gather": {
          "logged": 1675206134512
        }
      }
    },
    {
      "cell_type": "code",
      "source": [
        "# Drop unused columns\n",
        "df = df.drop(['index', 'COMMENT_ID', 'AUTHOR', 'DATE'], axis=1)\n",
        "df.shape"
      ],
      "outputs": [
        {
          "output_type": "execute_result",
          "execution_count": 10,
          "data": {
            "text/plain": "(1138, 2)"
          },
          "metadata": {}
        }
      ],
      "execution_count": 10,
      "metadata": {
        "gather": {
          "logged": 1675206138709
        }
      }
    },
    {
      "cell_type": "code",
      "source": [
        "try:\n",
        "    os.makedirs('./data/training_data', exist_ok=True)\n",
        "    df.to_csv('./data/training_data/spam.csv', index=False, header=True)\n",
        "    print('spam.csv training data created')\n",
        "except:\n",
        "    print(\"directory already exists\")\n"
      ],
      "outputs": [
        {
          "output_type": "stream",
          "name": "stdout",
          "text": "spam.csv training data created\n"
        }
      ],
      "execution_count": 11,
      "metadata": {
        "gather": {
          "logged": 1675206141814
        }
      }
    },
    {
      "cell_type": "code",
      "source": [
        "from azure.ai.ml.entities import Data\n",
        "\n",
        "my_path = './data/training_data/spam.csv'\n",
        "\n",
        "my_data = Data(\n",
        "    path=my_path,\n",
        "    type=AssetTypes.URI_FILE,\n",
        "    description=\"youtube data for spam classification mlops example\",\n",
        "    name=\"spam_class\"\n",
        ")\n",
        "\n",
        "ml_client.data.create_or_update(my_data)"
      ],
      "outputs": [
        {
          "output_type": "execute_result",
          "execution_count": 40,
          "data": {
            "text/plain": "Data({'skip_validation': False, 'mltable_schema_url': None, 'referenced_uris': None, 'type': 'uri_file', 'is_anonymous': False, 'auto_increment_version': False, 'name': 'spam_class', 'description': 'youtube data for spam classification mlops example', 'tags': {}, 'properties': {}, 'id': '/subscriptions/1fad602f-d06f-46af-8f70-78a2c2c53b24/resourceGroups/MLGroup/providers/Microsoft.MachineLearningServices/workspaces/shivamlservice/data/spam_class/versions/4', 'Resource__source_path': None, 'base_path': '/mnt/batch/tasks/shared/LS_root/mounts/clusters/shiva-standard-compute/code/Users/shchitt/Spam_Classification_MLOps_V2', 'creation_context': <azure.ai.ml.entities._system_data.SystemData object at 0x7f36d3a81330>, 'serialize': <msrest.serialization.Serializer object at 0x7f36d3a81210>, 'version': '4', 'latest_version': None, 'path': 'azureml://subscriptions/1fad602f-d06f-46af-8f70-78a2c2c53b24/resourcegroups/MLGroup/workspaces/shivamlservice/datastores/workspaceblobstore/paths/LocalUpload/43016c59cd727ccec09d2a9a27c7e04a/spam.csv', 'datastore': None})"
          },
          "metadata": {}
        }
      ],
      "execution_count": 40,
      "metadata": {
        "gather": {
          "logged": 1675128492336
        }
      }
    },
    {
      "cell_type": "code",
      "source": [
        "# Get data from AML Data Assets\r\n",
        "spam_dataset = ml_client.data.get(name=\"spam_class\", label=\"latest\")\r\n",
        "spam_dataset"
      ],
      "outputs": [
        {
          "output_type": "execute_result",
          "execution_count": 12,
          "data": {
            "text/plain": "Data({'skip_validation': False, 'mltable_schema_url': None, 'referenced_uris': None, 'type': 'uri_file', 'is_anonymous': False, 'auto_increment_version': False, 'name': 'spam_class', 'description': 'youtube data for spam classification mlops example', 'tags': {}, 'properties': {}, 'id': '/subscriptions/1fad602f-d06f-46af-8f70-78a2c2c53b24/resourceGroups/MLGroup/providers/Microsoft.MachineLearningServices/workspaces/shivamlservice/data/spam_class/versions/5', 'Resource__source_path': None, 'base_path': '/mnt/batch/tasks/shared/LS_root/mounts/clusters/shiva-standard-compute/code/Users/shchitt/Spam_Classification_MLOps_V2', 'creation_context': <azure.ai.ml.entities._system_data.SystemData object at 0x7f23b55e9180>, 'serialize': <msrest.serialization.Serializer object at 0x7f23c5d67460>, 'version': '5', 'latest_version': None, 'path': 'azureml://subscriptions/1fad602f-d06f-46af-8f70-78a2c2c53b24/resourcegroups/MLGroup/workspaces/shivamlservice/datastores/workspaceblobstore/paths/LocalUpload/43016c59cd727ccec09d2a9a27c7e04a/spam.csv', 'datastore': None})"
          },
          "metadata": {}
        }
      ],
      "execution_count": 12,
      "metadata": {
        "jupyter": {
          "source_hidden": false,
          "outputs_hidden": false
        },
        "nteract": {
          "transient": {
            "deleting": false
          }
        },
        "gather": {
          "logged": 1675206172449
        }
      }
    },
    {
      "cell_type": "code",
      "source": [
        "pip install -U azureml-fsspec mltable"
      ],
      "outputs": [
        {
          "output_type": "stream",
          "name": "stdout",
          "text": "Requirement already satisfied: azureml-fsspec in /anaconda/envs/azureml_py310_sdkv2/lib/python3.10/site-packages (0.1.0b3)\nRequirement already satisfied: mltable in /anaconda/envs/azureml_py310_sdkv2/lib/python3.10/site-packages (1.0.0)\nCollecting mltable\n  Downloading mltable-1.1.0-py3-none-any.whl (170 kB)\n\u001b[2K     \u001b[90m━━━━━━━━━━━━━━━━━━━━━━━━━━━━━━━━━━━━━━\u001b[0m \u001b[32m170.1/170.1 kB\u001b[0m \u001b[31m12.9 MB/s\u001b[0m eta \u001b[36m0:00:00\u001b[0m\n\u001b[?25hRequirement already satisfied: fsspec>=2021.6.1 in /anaconda/envs/azureml_py310_sdkv2/lib/python3.10/site-packages (from azureml-fsspec) (2023.1.0)\nRequirement already satisfied: azureml-core in /anaconda/envs/azureml_py310_sdkv2/lib/python3.10/site-packages (from azureml-fsspec) (1.47.0)\nRequirement already satisfied: azureml-dataprep<4.9.0a,>=4.8.0a in /anaconda/envs/azureml_py310_sdkv2/lib/python3.10/site-packages (from azureml-fsspec) (4.8.6)\nRequirement already satisfied: azure-core!=1.22.0,<2.0.0,>=1.8.0 in /anaconda/envs/azureml_py310_sdkv2/lib/python3.10/site-packages (from mltable) (1.26.1)\nRequirement already satisfied: pytz in /anaconda/envs/azureml_py310_sdkv2/lib/python3.10/site-packages (from mltable) (2022.6)\nRequirement already satisfied: msrest>=0.6.18 in /anaconda/envs/azureml_py310_sdkv2/lib/python3.10/site-packages (from mltable) (0.7.1)\nRequirement already satisfied: python-dateutil<3.0.0,>=2.7.3 in /anaconda/envs/azureml_py310_sdkv2/lib/python3.10/site-packages (from mltable) (2.8.2)\nRequirement already satisfied: cryptography!=1.9,!=2.0.*,!=2.1.*,!=2.2.*,<41 in /anaconda/envs/azureml_py310_sdkv2/lib/python3.10/site-packages (from mltable) (38.0.3)\nRequirement already satisfied: jsonschema<5.0.0,>=4.0.0 in /anaconda/envs/azureml_py310_sdkv2/lib/python3.10/site-packages (from mltable) (4.17.0)\nRequirement already satisfied: pyyaml<7.0.0,>=5.1.0 in /anaconda/envs/azureml_py310_sdkv2/lib/python3.10/site-packages (from mltable) (6.0)\nRequirement already satisfied: PyJWT<3.0.0 in /anaconda/envs/azureml_py310_sdkv2/lib/python3.10/site-packages (from mltable) (2.6.0)\nRequirement already satisfied: azure-mgmt-core<2.0.0,>=1.3.0 in /anaconda/envs/azureml_py310_sdkv2/lib/python3.10/site-packages (from mltable) (1.3.2)\nRequirement already satisfied: typing-extensions>=4.0.1 in /anaconda/envs/azureml_py310_sdkv2/lib/python3.10/site-packages (from azure-core!=1.22.0,<2.0.0,>=1.8.0->mltable) (4.4.0)\nRequirement already satisfied: six>=1.11.0 in /anaconda/envs/azureml_py310_sdkv2/lib/python3.10/site-packages (from azure-core!=1.22.0,<2.0.0,>=1.8.0->mltable) (1.16.0)\nRequirement already satisfied: requests>=2.18.4 in /anaconda/envs/azureml_py310_sdkv2/lib/python3.10/site-packages (from azure-core!=1.22.0,<2.0.0,>=1.8.0->mltable) (2.28.1)\nRequirement already satisfied: cloudpickle<3.0.0,>=1.1.0 in /anaconda/envs/azureml_py310_sdkv2/lib/python3.10/site-packages (from azureml-dataprep<4.9.0a,>=4.8.0a->azureml-fsspec) (2.2.0)\nRequirement already satisfied: azureml-dataprep-rslex~=2.15.2dev0 in /anaconda/envs/azureml_py310_sdkv2/lib/python3.10/site-packages (from azureml-dataprep<4.9.0a,>=4.8.0a->azureml-fsspec) (2.15.2)\nRequirement already satisfied: dotnetcore2<4.0.0,>=3.0.0 in /anaconda/envs/azureml_py310_sdkv2/lib/python3.10/site-packages (from azureml-dataprep<4.9.0a,>=4.8.0a->azureml-fsspec) (3.1.23)\nRequirement already satisfied: azureml-dataprep-native<39.0.0,>=38.0.0 in /anaconda/envs/azureml_py310_sdkv2/lib/python3.10/site-packages (from azureml-dataprep<4.9.0a,>=4.8.0a->azureml-fsspec) (38.0.0)\nRequirement already satisfied: azure-identity>=1.7.0 in /anaconda/envs/azureml_py310_sdkv2/lib/python3.10/site-packages (from azureml-dataprep<4.9.0a,>=4.8.0a->azureml-fsspec) (1.7.0)\nRequirement already satisfied: pyarrow<=9.0.0,>=0.17.0 in /anaconda/envs/azureml_py310_sdkv2/lib/python3.10/site-packages (from azureml-dataprep<4.9.0a,>=4.8.0a->azureml-fsspec) (6.0.0)\nRequirement already satisfied: cffi>=1.12 in /anaconda/envs/azureml_py310_sdkv2/lib/python3.10/site-packages (from cryptography!=1.9,!=2.0.*,!=2.1.*,!=2.2.*,<41->mltable) (1.15.1)\nRequirement already satisfied: attrs>=17.4.0 in /anaconda/envs/azureml_py310_sdkv2/lib/python3.10/site-packages (from jsonschema<5.0.0,>=4.0.0->mltable) (22.1.0)\nRequirement already satisfied: pyrsistent!=0.17.0,!=0.17.1,!=0.17.2,>=0.14.0 in /anaconda/envs/azureml_py310_sdkv2/lib/python3.10/site-packages (from jsonschema<5.0.0,>=4.0.0->mltable) (0.19.2)\nRequirement already satisfied: requests-oauthlib>=0.5.0 in /anaconda/envs/azureml_py310_sdkv2/lib/python3.10/site-packages (from msrest>=0.6.18->mltable) (1.3.1)\nRequirement already satisfied: certifi>=2017.4.17 in /anaconda/envs/azureml_py310_sdkv2/lib/python3.10/site-packages (from msrest>=0.6.18->mltable) (2022.6.15)\nRequirement already satisfied: isodate>=0.6.0 in /anaconda/envs/azureml_py310_sdkv2/lib/python3.10/site-packages (from msrest>=0.6.18->mltable) (0.6.1)\nRequirement already satisfied: packaging<22.0,>=20.0 in /anaconda/envs/azureml_py310_sdkv2/lib/python3.10/site-packages (from azureml-core->azureml-fsspec) (21.3)\nRequirement already satisfied: SecretStorage<4.0.0 in /anaconda/envs/azureml_py310_sdkv2/lib/python3.10/site-packages (from azureml-core->azureml-fsspec) (3.3.3)\nRequirement already satisfied: jsonpickle<3.0.0 in /anaconda/envs/azureml_py310_sdkv2/lib/python3.10/site-packages (from azureml-core->azureml-fsspec) (2.2.0)\nRequirement already satisfied: azure-mgmt-resource<22.0.0,>=15.0.0 in /anaconda/envs/azureml_py310_sdkv2/lib/python3.10/site-packages (from azureml-core->azureml-fsspec) (21.2.1)\nRequirement already satisfied: docker<7.0.0 in /anaconda/envs/azureml_py310_sdkv2/lib/python3.10/site-packages (from azureml-core->azureml-fsspec) (6.0.1)\nRequirement already satisfied: urllib3<2.0.0,>=1.23 in /anaconda/envs/azureml_py310_sdkv2/lib/python3.10/site-packages (from azureml-core->azureml-fsspec) (1.26.12)\nRequirement already satisfied: adal<=1.2.7,>=1.2.0 in /anaconda/envs/azureml_py310_sdkv2/lib/python3.10/site-packages (from azureml-core->azureml-fsspec) (1.2.7)\nRequirement already satisfied: azure-mgmt-containerregistry<11,>=8.2.0 in /anaconda/envs/azureml_py310_sdkv2/lib/python3.10/site-packages (from azureml-core->azureml-fsspec) (10.0.0)\nRequirement already satisfied: pkginfo in /anaconda/envs/azureml_py310_sdkv2/lib/python3.10/site-packages (from azureml-core->azureml-fsspec) (1.8.3)\nRequirement already satisfied: azure-common<2.0.0,>=1.1.12 in /anaconda/envs/azureml_py310_sdkv2/lib/python3.10/site-packages (from azureml-core->azureml-fsspec) (1.1.28)\nRequirement already satisfied: ndg-httpsclient<=0.5.1 in /anaconda/envs/azureml_py310_sdkv2/lib/python3.10/site-packages (from azureml-core->azureml-fsspec) (0.5.1)\nRequirement already satisfied: pyopenssl<23.0.0 in /anaconda/envs/azureml_py310_sdkv2/lib/python3.10/site-packages (from azureml-core->azureml-fsspec) (22.1.0)\nRequirement already satisfied: msrestazure<=0.6.4,>=0.4.33 in /anaconda/envs/azureml_py310_sdkv2/lib/python3.10/site-packages (from azureml-core->azureml-fsspec) (0.6.4)\nRequirement already satisfied: pathspec<1.0.0 in /anaconda/envs/azureml_py310_sdkv2/lib/python3.10/site-packages (from azureml-core->azureml-fsspec) (0.10.1)\nRequirement already satisfied: paramiko<3.0.0,>=2.0.8 in /anaconda/envs/azureml_py310_sdkv2/lib/python3.10/site-packages (from azureml-core->azureml-fsspec) (2.12.0)\nRequirement already satisfied: knack~=0.10.0 in /anaconda/envs/azureml_py310_sdkv2/lib/python3.10/site-packages (from azureml-core->azureml-fsspec) (0.10.0)\nRequirement already satisfied: azure-mgmt-keyvault<11.0.0,>=0.40.0 in /anaconda/envs/azureml_py310_sdkv2/lib/python3.10/site-packages (from azureml-core->azureml-fsspec) (10.1.0)\nRequirement already satisfied: jmespath<2.0.0 in /anaconda/envs/azureml_py310_sdkv2/lib/python3.10/site-packages (from azureml-core->azureml-fsspec) (1.0.1)\nRequirement already satisfied: argcomplete<3 in /anaconda/envs/azureml_py310_sdkv2/lib/python3.10/site-packages (from azureml-core->azureml-fsspec) (2.0.0)\nRequirement already satisfied: azure-mgmt-storage<21.0.0,>=16.0.0 in /anaconda/envs/azureml_py310_sdkv2/lib/python3.10/site-packages (from azureml-core->azureml-fsspec) (19.1.0)\nRequirement already satisfied: azure-mgmt-authorization<3,>=0.40.0 in /anaconda/envs/azureml_py310_sdkv2/lib/python3.10/site-packages (from azureml-core->azureml-fsspec) (2.0.0)\nRequirement already satisfied: contextlib2<22.0.0 in /anaconda/envs/azureml_py310_sdkv2/lib/python3.10/site-packages (from azureml-core->azureml-fsspec) (21.6.0)\nRequirement already satisfied: msal-extensions<=1.0.0,>=0.3.0 in /anaconda/envs/azureml_py310_sdkv2/lib/python3.10/site-packages (from azureml-core->azureml-fsspec) (0.3.1)\nRequirement already satisfied: humanfriendly<11.0,>=4.7 in /anaconda/envs/azureml_py310_sdkv2/lib/python3.10/site-packages (from azureml-core->azureml-fsspec) (10.0)\nRequirement already satisfied: msal<2.0.0,>=1.15.0 in /anaconda/envs/azureml_py310_sdkv2/lib/python3.10/site-packages (from azureml-core->azureml-fsspec) (1.20.0)\nRequirement already satisfied: azure-graphrbac<1.0.0,>=0.40.0 in /anaconda/envs/azureml_py310_sdkv2/lib/python3.10/site-packages (from azureml-core->azureml-fsspec) (0.61.1)\nRequirement already satisfied: backports.tempfile in /anaconda/envs/azureml_py310_sdkv2/lib/python3.10/site-packages (from azureml-core->azureml-fsspec) (1.0)\nRequirement already satisfied: pycparser in /anaconda/envs/azureml_py310_sdkv2/lib/python3.10/site-packages (from cffi>=1.12->cryptography!=1.9,!=2.0.*,!=2.1.*,!=2.2.*,<41->mltable) (2.21)\nRequirement already satisfied: websocket-client>=0.32.0 in /anaconda/envs/azureml_py310_sdkv2/lib/python3.10/site-packages (from docker<7.0.0->azureml-core->azureml-fsspec) (1.4.2)\nRequirement already satisfied: distro>=1.2.0 in /anaconda/envs/azureml_py310_sdkv2/lib/python3.10/site-packages (from dotnetcore2<4.0.0,>=3.0.0->azureml-dataprep<4.9.0a,>=4.8.0a->azureml-fsspec) (1.8.0)\nRequirement already satisfied: pygments in /anaconda/envs/azureml_py310_sdkv2/lib/python3.10/site-packages (from knack~=0.10.0->azureml-core->azureml-fsspec) (2.11.2)\nRequirement already satisfied: tabulate in /anaconda/envs/azureml_py310_sdkv2/lib/python3.10/site-packages (from knack~=0.10.0->azureml-core->azureml-fsspec) (0.9.0)\nRequirement already satisfied: portalocker<3,>=1.0 in /anaconda/envs/azureml_py310_sdkv2/lib/python3.10/site-packages (from msal-extensions<=1.0.0,>=0.3.0->azureml-core->azureml-fsspec) (2.6.0)\nRequirement already satisfied: pyasn1>=0.1.1 in /anaconda/envs/azureml_py310_sdkv2/lib/python3.10/site-packages (from ndg-httpsclient<=0.5.1->azureml-core->azureml-fsspec) (0.4.8)\nRequirement already satisfied: pyparsing!=3.0.5,>=2.0.2 in /anaconda/envs/azureml_py310_sdkv2/lib/python3.10/site-packages (from packaging<22.0,>=20.0->azureml-core->azureml-fsspec) (3.0.9)\nRequirement already satisfied: bcrypt>=3.1.3 in /anaconda/envs/azureml_py310_sdkv2/lib/python3.10/site-packages (from paramiko<3.0.0,>=2.0.8->azureml-core->azureml-fsspec) (4.0.1)\nRequirement already satisfied: pynacl>=1.0.1 in /anaconda/envs/azureml_py310_sdkv2/lib/python3.10/site-packages (from paramiko<3.0.0,>=2.0.8->azureml-core->azureml-fsspec) (1.5.0)\nRequirement already satisfied: numpy>=1.16.6 in /anaconda/envs/azureml_py310_sdkv2/lib/python3.10/site-packages (from pyarrow<=9.0.0,>=0.17.0->azureml-dataprep<4.9.0a,>=4.8.0a->azureml-fsspec) (1.23.4)\nRequirement already satisfied: idna<4,>=2.5 in /anaconda/envs/azureml_py310_sdkv2/lib/python3.10/site-packages (from requests>=2.18.4->azure-core!=1.22.0,<2.0.0,>=1.8.0->mltable) (3.4)\nRequirement already satisfied: charset-normalizer<3,>=2 in /anaconda/envs/azureml_py310_sdkv2/lib/python3.10/site-packages (from requests>=2.18.4->azure-core!=1.22.0,<2.0.0,>=1.8.0->mltable) (2.1.1)\nRequirement already satisfied: oauthlib>=3.0.0 in /anaconda/envs/azureml_py310_sdkv2/lib/python3.10/site-packages (from requests-oauthlib>=0.5.0->msrest>=0.6.18->mltable) (3.2.2)\nRequirement already satisfied: PySocks!=1.5.7,>=1.5.6 in /anaconda/envs/azureml_py310_sdkv2/lib/python3.10/site-packages (from requests>=2.18.4->azure-core!=1.22.0,<2.0.0,>=1.8.0->mltable) (1.7.1)\nRequirement already satisfied: jeepney>=0.6 in /anaconda/envs/azureml_py310_sdkv2/lib/python3.10/site-packages (from SecretStorage<4.0.0->azureml-core->azureml-fsspec) (0.8.0)\nRequirement already satisfied: backports.weakref in /anaconda/envs/azureml_py310_sdkv2/lib/python3.10/site-packages (from backports.tempfile->azureml-core->azureml-fsspec) (1.0.post1)\nInstalling collected packages: mltable\n  Attempting uninstall: mltable\n    Found existing installation: mltable 1.0.0\n    Uninstalling mltable-1.0.0:\n      Successfully uninstalled mltable-1.0.0\nSuccessfully installed mltable-1.1.0\nNote: you may need to restart the kernel to use updated packages.\n"
        }
      ],
      "execution_count": 14,
      "metadata": {
        "jupyter": {
          "source_hidden": false,
          "outputs_hidden": false
        },
        "nteract": {
          "transient": {
            "deleting": false
          }
        },
        "gather": {
          "logged": 1675128343543
        }
      }
    },
    {
      "cell_type": "code",
      "source": [
        "df = pd.read_csv(spam_dataset.path)\r\n",
        "df.head()"
      ],
      "outputs": [
        {
          "output_type": "execute_result",
          "execution_count": 13,
          "data": {
            "text/plain": "                                                text  label\n0                     go here to check the views :3﻿      0\n1  Follow me watch my videos :) Follow me watch m...      1\n2                            go check out our video﻿      1\n3                                         I love it﻿      0\n4                               The best song ever!﻿      0",
            "text/html": "<div>\n<style scoped>\n    .dataframe tbody tr th:only-of-type {\n        vertical-align: middle;\n    }\n\n    .dataframe tbody tr th {\n        vertical-align: top;\n    }\n\n    .dataframe thead th {\n        text-align: right;\n    }\n</style>\n<table border=\"1\" class=\"dataframe\">\n  <thead>\n    <tr style=\"text-align: right;\">\n      <th></th>\n      <th>text</th>\n      <th>label</th>\n    </tr>\n  </thead>\n  <tbody>\n    <tr>\n      <th>0</th>\n      <td>go here to check the views :3﻿</td>\n      <td>0</td>\n    </tr>\n    <tr>\n      <th>1</th>\n      <td>Follow me watch my videos :) Follow me watch m...</td>\n      <td>1</td>\n    </tr>\n    <tr>\n      <th>2</th>\n      <td>go check out our video﻿</td>\n      <td>1</td>\n    </tr>\n    <tr>\n      <th>3</th>\n      <td>I love it﻿</td>\n      <td>0</td>\n    </tr>\n    <tr>\n      <th>4</th>\n      <td>The best song ever!﻿</td>\n      <td>0</td>\n    </tr>\n  </tbody>\n</table>\n</div>"
          },
          "metadata": {}
        }
      ],
      "execution_count": 13,
      "metadata": {
        "jupyter": {
          "source_hidden": false,
          "outputs_hidden": false
        },
        "nteract": {
          "transient": {
            "deleting": false
          }
        },
        "gather": {
          "logged": 1675206198546
        }
      }
    },
    {
      "cell_type": "code",
      "source": [
        "import re \r\n",
        "df['text'] = df['text'].apply(lambda text: re.sub('[^A-Za-z]+', ' ', text.lower()))\r\n",
        "df.head()"
      ],
      "outputs": [
        {
          "output_type": "execute_result",
          "execution_count": 14,
          "data": {
            "text/plain": "                                                text  label\n0                        go here to check the views       0\n1  follow me watch my videos follow me watch my v...      1\n2                            go check out our video       1\n3                                         i love it       0\n4                                the best song ever       0",
            "text/html": "<div>\n<style scoped>\n    .dataframe tbody tr th:only-of-type {\n        vertical-align: middle;\n    }\n\n    .dataframe tbody tr th {\n        vertical-align: top;\n    }\n\n    .dataframe thead th {\n        text-align: right;\n    }\n</style>\n<table border=\"1\" class=\"dataframe\">\n  <thead>\n    <tr style=\"text-align: right;\">\n      <th></th>\n      <th>text</th>\n      <th>label</th>\n    </tr>\n  </thead>\n  <tbody>\n    <tr>\n      <th>0</th>\n      <td>go here to check the views</td>\n      <td>0</td>\n    </tr>\n    <tr>\n      <th>1</th>\n      <td>follow me watch my videos follow me watch my v...</td>\n      <td>1</td>\n    </tr>\n    <tr>\n      <th>2</th>\n      <td>go check out our video</td>\n      <td>1</td>\n    </tr>\n    <tr>\n      <th>3</th>\n      <td>i love it</td>\n      <td>0</td>\n    </tr>\n    <tr>\n      <th>4</th>\n      <td>the best song ever</td>\n      <td>0</td>\n    </tr>\n  </tbody>\n</table>\n</div>"
          },
          "metadata": {}
        }
      ],
      "execution_count": 14,
      "metadata": {
        "jupyter": {
          "source_hidden": false,
          "outputs_hidden": false
        },
        "nteract": {
          "transient": {
            "deleting": false
          }
        },
        "gather": {
          "logged": 1675206217362
        }
      }
    },
    {
      "cell_type": "code",
      "source": [
        "from azure.ai.ml.entities import AmlCompute\n",
        "\n",
        "# Name assigned to the compute cluster\n",
        "cpu_compute_target = \"cpu-cluster\"\n",
        "\n",
        "try:\n",
        "    # let's see if the compute target already exists\n",
        "    cpu_cluster = ml_client.compute.get(cpu_compute_target)\n",
        "    print(\n",
        "        f\"You already have a cluster named {cpu_compute_target}, we'll reuse it as is.\"\n",
        "    )\n",
        "\n",
        "except Exception:\n",
        "    print(\"Creating a new cpu compute target...\")\n",
        "\n",
        "    # Let's create the Azure ML compute object with the intended parameters\n",
        "    cpu_cluster = AmlCompute(\n",
        "        name=cpu_compute_target,\n",
        "        # Azure ML Compute is the on-demand VM service\n",
        "        type=\"amlcompute\",\n",
        "        # VM Family\n",
        "        size=\"STANDARD_DS3_V2\",\n",
        "        # Minimum running nodes when there is no job running\n",
        "        min_instances=0,\n",
        "        # Nodes in cluster\n",
        "        max_instances=4,\n",
        "        # How many seconds will the node running after the job termination\n",
        "        idle_time_before_scale_down=180,\n",
        "        # Dedicated or LowPriority. The latter is cheaper but there is a chance of job termination\n",
        "        tier=\"Dedicated\",\n",
        "    )\n",
        "\n",
        "    # Now, we pass the object to MLClient's create_or_update method\n",
        "    cpu_cluster = ml_client.compute.begin_create_or_update(cpu_cluster)\n",
        "\n",
        "    print(f\"AMLCompute with name {cpu_cluster.name} is created, the compute size is {cpu_cluster.size}\")"
      ],
      "outputs": [
        {
          "output_type": "stream",
          "name": "stdout",
          "text": "You already have a cluster named cpu-cluster, we'll reuse it as is.\n"
        }
      ],
      "execution_count": 15,
      "metadata": {
        "gather": {
          "logged": 1675206223489
        }
      }
    },
    {
      "cell_type": "code",
      "source": [
        "import os\n",
        "\n",
        "dependencies_dir = \"./environment_setup\"\n",
        "os.makedirs(dependencies_dir, exist_ok=True)"
      ],
      "outputs": [],
      "execution_count": 16,
      "metadata": {
        "gather": {
          "logged": 1675206226578
        }
      }
    },
    {
      "cell_type": "code",
      "source": [
        "%%writefile {dependencies_dir}/conda.yml\n",
        "name: spam-mlops-env\n",
        "channels:\n",
        "  - conda-forge\n",
        "dependencies:\n",
        "  - python=3.8\n",
        "  - pip=21.2.4\n",
        "  - scikit-learn=0.24.2\n",
        "  - scipy=1.7.1\n",
        "  - pip:  \n",
        "    - mlflow== 1.26.1\n",
        "    - azureml-mlflow==1.42.0\n",
        "    - numpy\n",
        "    - pandas\n",
        "    - matplotlib"
      ],
      "outputs": [
        {
          "output_type": "stream",
          "name": "stdout",
          "text": "Overwriting ./environment_setup/conda.yml\n"
        }
      ],
      "execution_count": 17,
      "metadata": {}
    },
    {
      "cell_type": "code",
      "source": [
        "from azure.ai.ml.entities import Environment\n",
        "\n",
        "custom_env_name = \"spam-mlops-env\"\n",
        "\n",
        "try:\n",
        "    # let's see if the environment already exists    \n",
        "    job_env = ml_client.environments.get(name=custom_env_name, version=3)\n",
        "    print(f\"You already have the same environment, we'll reuse it as is.\")\n",
        "    #print(job_env)\n",
        "    \n",
        "except:\n",
        "    job_env = Environment(\n",
        "        name=custom_env_name,\n",
        "        description=\"Custom environment for sklearn image classification\",\n",
        "        conda_file=os.path.join(dependencies_dir, \"conda.yml\"),\n",
        "        image=\"mcr.microsoft.com/azureml/openmpi4.1.0-ubuntu20.04:latest\",\n",
        "    )\n",
        "    job_env = ml_client.environments.create_or_update(job_env)\n",
        "\n",
        "    print(\n",
        "        f\"Environment with name {job_env.name} is registered to workspace, the environment version is {job_env.version}\"\n",
        "    )"
      ],
      "outputs": [
        {
          "output_type": "stream",
          "name": "stdout",
          "text": "You already have the same environment, we'll reuse it as is.\n"
        }
      ],
      "execution_count": 18,
      "metadata": {
        "gather": {
          "logged": 1675206233457
        }
      }
    },
    {
      "cell_type": "code",
      "source": [
        "import os\n",
        "\n",
        "train_src_dir = \"./scripts/training\"\n",
        "os.makedirs(train_src_dir, exist_ok=True)"
      ],
      "outputs": [],
      "execution_count": 19,
      "metadata": {
        "gather": {
          "logged": 1675206238844
        }
      }
    },
    {
      "cell_type": "code",
      "source": [
        "%%writefile {train_src_dir}/main-autolog.py\n",
        "\n",
        "import os\n",
        "import numpy as np\n",
        "import pandas as pd\n",
        "import re\n",
        "import matplotlib.pyplot as plt\n",
        "import os, json, sys\n",
        "import joblib\n",
        "import mlflow\n",
        "import argparse\n",
        "\n",
        "from sklearn.model_selection import train_test_split\n",
        "from sklearn.pipeline import make_pipeline\n",
        "from sklearn.feature_extraction.text import TfidfVectorizer\n",
        "from sklearn.svm import SVC\n",
        "from sklearn.metrics import confusion_matrix\n",
        "from sklearn.metrics import precision_score, recall_score, f1_score, accuracy_score\n",
        "\n",
        "\n",
        "# define functions\n",
        "def main(args):\n",
        "           \n",
        "    # enable auto logging\n",
        "    mlflow.autolog()\n",
        "\n",
        "    # read in data\n",
        "    df = pd.read_csv(args.spam_csv)\n",
        "    df['text'] = df['text'].apply(lambda text: re.sub('[^A-Za-z]+', ' ', text.lower()))\n",
        "    \n",
        "    X = df[['text']]\n",
        "    y = df[['label']]\n",
        "\n",
        "    # Use 1/5 of the data for testing later\n",
        "    X_train, X_test, y_train, y_test = train_test_split(X, y, test_size=args.test_size, random_state=args.random_state, stratify=y)\n",
        "\n",
        "    # Print number of comments for each set\n",
        "    print(f\"There are {X_train.shape[0]} comments for training.\")\n",
        "    print(f\"There are {X_test.shape[0]} comments for testing\")\n",
        "\n",
        "    clf = make_pipeline(\n",
        "        #TfidfVectorizer(stop_words=get_stop_words('en')),\n",
        "        TfidfVectorizer(),\n",
        "        SVC(kernel='linear', probability=True)\n",
        "    )\n",
        "\n",
        "    clf = clf.fit(X=X_train['text'], y=y_train['label'])\n",
        "    \n",
        "    # Make predictions for the test set\n",
        "    y_pred = clf.predict(X_test['text'])\n",
        "\n",
        "    # Return accuracy score\n",
        "    true_acc = accuracy_score(y_pred, y_test)\n",
        "    \n",
        "    # Calculate the confusion matrix\n",
        "    conf_matrix = confusion_matrix(y_true=y_test, y_pred=y_pred)\n",
        "\n",
        "    # Print the confusion matrix using Matplotlib\n",
        "    fig, ax = plt.subplots(figsize=(5, 5))\n",
        "    ax.matshow(conf_matrix, cmap=plt.cm.Oranges, alpha=0.3)\n",
        "    for i in range(conf_matrix.shape[0]):\n",
        "        for j in range(conf_matrix.shape[1]):\n",
        "            ax.text(x=j, y=i,s=conf_matrix[i, j], va='center', ha='center', size='xx-large')\n",
        "    \n",
        "    plt.xlabel('Predictions', fontsize=18)\n",
        "    plt.ylabel('Actuals', fontsize=18)\n",
        "    plt.title('Confusion Matrix', fontsize=18)\n",
        "    plt.show()\n",
        "\n",
        "    plt.savefig(\"confusion_matrix.png\")\n",
        "\n",
        "    print('Accuracy: %.3f' % true_acc)\n",
        "\n",
        "    precision = precision_score(y_test, y_pred)\n",
        "    print('Precision: %.3f' % precision)\n",
        "\n",
        "    recall = recall_score(y_test, y_pred)\n",
        "    print('Recall: %.3f' % recall)\n",
        "\n",
        "    f1 = f1_score(y_test, y_pred)\n",
        "    print('f1: %.3f' % f1)\n",
        "\n",
        "    #### MODEL\n",
        "    # Registering the model to the workspace\n",
        "    print(\"Registering the model via MLFlow\")\n",
        "    mlflow.sklearn.log_model(\n",
        "        sk_model=clf,\n",
        "        registered_model_name=args.registered_model_name,\n",
        "        artifact_path=args.registered_model_name,\n",
        "    )\n",
        "    \n",
        "    # Saving the model to a file\n",
        "    print(\"Saving the model via MLFlow\")\n",
        "    mlflow.sklearn.save_model(\n",
        "        sk_model=clf,\n",
        "        path=os.path.join(args.registered_model_name, \"trained_model\"),\n",
        "    )\n",
        "        \n",
        "# run script\n",
        "if __name__ == \"__main__\":\n",
        "    # setup arg parser\n",
        "    parser = argparse.ArgumentParser()\n",
        "\n",
        "    # add arguments\n",
        "    parser.add_argument(\"--spam-csv\", type=str)\n",
        "    parser.add_argument(\"--registered_model_name\", type=str, help=\"model name\")\n",
        "    parser.add_argument(\"--random_state\", type=int, default=42)\n",
        "    parser.add_argument(\"--test_size\", type=float, required=False, default=0.20)\n",
        "\n",
        "    # parse args\n",
        "    args = parser.parse_args()\n",
        "    \n",
        "    # run main function\n",
        "    main(args)\n"
      ],
      "outputs": [
        {
          "output_type": "stream",
          "name": "stdout",
          "text": "Overwriting ./scripts/training/main-autolog.py\n"
        }
      ],
      "execution_count": 45,
      "metadata": {}
    },
    {
      "cell_type": "code",
      "source": [
        "model_name = \"spam-svm-classifier\"\n",
        "\n",
        "# create the command\n",
        "job = command(\n",
        "    code=\"./scripts/training\",  # local path where the code is stored\n",
        "    command=\"python main-autolog.py --spam-csv ${{inputs.spam}} --registered_model_name ${{inputs.registered_model_name}}\",\n",
        "    inputs=dict(\n",
        "        spam=Input(type=\"uri_file\", path=spam_dataset.id),\n",
        "        registered_model_name=model_name,\n",
        "    ),\n",
        "    environment=job_env,\n",
        "    compute=\"cpu-cluster\",\n",
        "    display_name=\"spam-class-mlops-v2\",\n",
        "    experiment_name=\"exp-spam-class-mlops-v2\",\n",
        "    #description=\"\"\n",
        ")"
      ],
      "outputs": [],
      "execution_count": 46,
      "metadata": {
        "gather": {
          "logged": 1675212569237
        }
      }
    },
    {
      "cell_type": "code",
      "source": [
        "# submit the command\n",
        "returned_job = ml_client.create_or_update(job)\n",
        "returned_job"
      ],
      "outputs": [
        {
          "output_type": "stream",
          "name": "stderr",
          "text": "Warning: the provided asset name 'spam-mlops-env' will not be used for anonymous registration\nWarning: the provided asset name 'spam-mlops-env' will not be used for anonymous registration\n\u001b[32mUploading training (0.01 MBs): 100%|██████████| 7388/7388 [00:00<00:00, 191079.28it/s]\n\u001b[39m\n\n"
        },
        {
          "output_type": "execute_result",
          "execution_count": 47,
          "data": {
            "text/plain": "Command({'parameters': {}, 'init': False, 'type': 'command', 'status': 'Starting', 'log_files': None, 'name': 'icy_beach_5xq4xxk5m8', 'description': None, 'tags': {}, 'properties': {'_azureml.ComputeTargetType': 'amlctrain', 'ContentSnapshotId': 'c0fe3072-3916-4dc0-81a0-1f11630ba3eb'}, 'id': '/subscriptions/1fad602f-d06f-46af-8f70-78a2c2c53b24/resourceGroups/MLGroup/providers/Microsoft.MachineLearningServices/workspaces/shivamlservice/jobs/icy_beach_5xq4xxk5m8', 'Resource__source_path': None, 'base_path': '/mnt/batch/tasks/shared/LS_root/mounts/clusters/shiva-standard-compute/code/Users/shchitt/Spam_Classification_MLOps_V2', 'creation_context': <azure.ai.ml.entities._system_data.SystemData object at 0x7f235e2d07f0>, 'serialize': <msrest.serialization.Serializer object at 0x7f235e2d0070>, 'allowed_keys': {}, 'key_restriction': False, 'logger': <Logger attr_dict (WARNING)>, 'display_name': 'spam-class-mlops-v2', 'experiment_name': 'exp-spam-class-mlops-v2', 'compute': 'cpu-cluster', 'services': {'Tracking': <azure.ai.ml.entities._job.job_service.JobService object at 0x7f23601d46a0>, 'Studio': <azure.ai.ml.entities._job.job_service.JobService object at 0x7f235e2d0a60>}, 'comment': None, 'job_inputs': {'spam': {'type': 'uri_file', 'path': 'spam_class:5', 'mode': 'ro_mount'}, 'registered_model_name': 'spam-svm-classifier'}, 'job_outputs': {'default': {'type': 'uri_folder', 'path': 'azureml://datastores/workspaceartifactstore/ExperimentRun/dcid.icy_beach_5xq4xxk5m8', 'mode': 'rw_mount'}}, 'inputs': {'spam': <azure.ai.ml.entities._job.pipeline._io.base.NodeInput object at 0x7f235e2d06d0>, 'registered_model_name': <azure.ai.ml.entities._job.pipeline._io.base.NodeInput object at 0x7f235e2d1090>}, 'outputs': {'default': <azure.ai.ml.entities._job.pipeline._io.base.NodeOutput object at 0x7f235e2d1420>}, 'component': CommandComponent({'auto_increment_version': True, 'source': 'REMOTE.WORKSPACE.JOB', 'is_anonymous': False, 'name': 'icy_beach_5xq4xxk5m8', 'description': None, 'tags': {}, 'properties': {}, 'id': None, 'Resource__source_path': None, 'base_path': PosixPath('.'), 'creation_context': <azure.ai.ml.entities._system_data.SystemData object at 0x7f235e2d07f0>, 'serialize': <msrest.serialization.Serializer object at 0x7f235e2d0760>, 'command': 'python main-autolog.py --spam-csv ${{inputs.spam}} --registered_model_name ${{inputs.registered_model_name}}', 'code': '/subscriptions/1fad602f-d06f-46af-8f70-78a2c2c53b24/resourceGroups/MLGroup/providers/Microsoft.MachineLearningServices/workspaces/shivamlservice/codes/e9b6969d-0cba-457f-b0b1-7f8976f6942e/versions/1', 'environment_variables': {}, 'environment': '/subscriptions/1fad602f-d06f-46af-8f70-78a2c2c53b24/resourceGroups/MLGroup/providers/Microsoft.MachineLearningServices/workspaces/shivamlservice/environments/spam-mlops-env/versions/3', 'distribution': None, 'resources': None, 'version': None, 'latest_version': None, 'schema': None, 'type': 'command', 'display_name': 'spam-class-mlops-v2', 'is_deterministic': True, 'inputs': {'spam': {'type': 'uri_file', 'path': '/subscriptions/1fad602f-d06f-46af-8f70-78a2c2c53b24/resourceGroups/MLGroup/providers/Microsoft.MachineLearningServices/workspaces/shivamlservice/data/spam_class/versions/5', 'mode': 'ro_mount'}, 'registered_model_name': {'type': 'string', 'default': 'spam-svm-classifier'}}, 'outputs': {'default': {'type': 'uri_folder', 'path': 'azureml://datastores/workspaceartifactstore/ExperimentRun/dcid.icy_beach_5xq4xxk5m8', 'mode': 'rw_mount'}}, 'yaml_str': None, 'other_parameter': {'status': 'Starting', 'parameters': {}}}), 'referenced_control_flow_node_instance_id': None, 'kwargs': {'services': {'Tracking': <azure.ai.ml.entities._job.job_service.JobService object at 0x7f23601d46a0>, 'Studio': <azure.ai.ml.entities._job.job_service.JobService object at 0x7f235e2d0a60>}, 'status': 'Starting', 'creation_context': <azure.ai.ml.entities._system_data.SystemData object at 0x7f235e2d07f0>}, 'instance_id': '84b8d4ae-3a3b-42c9-9029-8ebc3c876a28', 'source': 'BUILDER', 'limits': None, 'identity': None, 'distribution': None, 'environment_variables': {}, 'environment': 'spam-mlops-env:3', 'resources': {'instance_count': 1, 'shm_size': '2g'}, 'swept': False})",
            "text/html": "<table style=\"width:100%\"><tr><th>Experiment</th><th>Name</th><th>Type</th><th>Status</th><th>Details Page</th></tr><tr><td>exp-spam-class-mlops-v2</td><td>icy_beach_5xq4xxk5m8</td><td>command</td><td>Starting</td><td><a href=\"https://ml.azure.com/runs/icy_beach_5xq4xxk5m8?wsid=/subscriptions/1fad602f-d06f-46af-8f70-78a2c2c53b24/resourcegroups/MLGroup/workspaces/shivamlservice&amp;tid=16b3c013-d300-468d-ac64-7eda0820b6d3\" target=\"_blank\" rel=\"noopener\">Link to Azure Machine Learning studio</a></td></tr></table>"
          },
          "metadata": {}
        }
      ],
      "execution_count": 47,
      "metadata": {
        "gather": {
          "logged": 1675212578159
        }
      }
    },
    {
      "cell_type": "code",
      "source": [
        "aml_url = returned_job.studio_url\r\n",
        "print(\"Monitor your job at\", aml_url)"
      ],
      "outputs": [
        {
          "output_type": "stream",
          "name": "stdout",
          "text": "Monitor your job at https://ml.azure.com/runs/icy_beach_5xq4xxk5m8?wsid=/subscriptions/1fad602f-d06f-46af-8f70-78a2c2c53b24/resourcegroups/MLGroup/workspaces/shivamlservice&tid=16b3c013-d300-468d-ac64-7eda0820b6d3\n"
        }
      ],
      "execution_count": 48,
      "metadata": {
        "jupyter": {
          "source_hidden": false,
          "outputs_hidden": false
        },
        "nteract": {
          "transient": {
            "deleting": false
          }
        },
        "gather": {
          "logged": 1675213080232
        }
      }
    },
    {
      "cell_type": "code",
      "source": [
        "job_config = {}\r\n",
        "job_config[\"job_id\"] = returned_job.id\r\n",
        "job_config[\"job_name\"] = returned_job.name\r\n",
        "job_config[\"experiment_name\"] = returned_job.experiment_name\r\n",
        "with open(\"./configuration/job_config.json\", \"w\") as outfile:\r\n",
        "    json.dump(job_config, outfile)"
      ],
      "outputs": [],
      "execution_count": 49,
      "metadata": {
        "jupyter": {
          "source_hidden": false,
          "outputs_hidden": false
        },
        "nteract": {
          "transient": {
            "deleting": false
          }
        },
        "gather": {
          "logged": 1675213082388
        }
      }
    },
    {
      "cell_type": "code",
      "source": [
        "import mlflow\r\n",
        "experiment_name = \"exp-spam-class-mlops-v2\"\r\n",
        "exp = mlflow.get_experiment_by_name(experiment_name)\r\n",
        "mlflow.search_runs(exp.experiment_id)"
      ],
      "outputs": [
        {
          "output_type": "execute_result",
          "execution_count": 40,
          "data": {
            "text/plain": "                      run_id                         experiment_id    status  \\\n0        red_corn_3nl9hn4yjt  9dd0aa70-931c-4aa8-a5f7-02947c0c04a5    FAILED   \n1         icy_yam_j6ry04g477  9dd0aa70-931c-4aa8-a5f7-02947c0c04a5  FINISHED   \n2  musing_cheetah_j1s0jbg0j8  9dd0aa70-931c-4aa8-a5f7-02947c0c04a5    FAILED   \n3   heroic_loquat_fg88yhk7vg  9dd0aa70-931c-4aa8-a5f7-02947c0c04a5    FAILED   \n4  willing_tomato_x25d35yv6j  9dd0aa70-931c-4aa8-a5f7-02947c0c04a5    FAILED   \n5    jovial_snake_4562q6324r  9dd0aa70-931c-4aa8-a5f7-02947c0c04a5    FAILED   \n6    polite_music_zrvjjp1yr1  9dd0aa70-931c-4aa8-a5f7-02947c0c04a5    KILLED   \n7    quirky_frame_gq7wcdkwdw  9dd0aa70-931c-4aa8-a5f7-02947c0c04a5  FINISHED   \n8      olive_date_y2qls78vc2  9dd0aa70-931c-4aa8-a5f7-02947c0c04a5  FINISHED   \n9   mighty_yogurt_zl9kqrhdzj  9dd0aa70-931c-4aa8-a5f7-02947c0c04a5  FINISHED   \n\n  artifact_uri                       start_time  \\\n0              2023-01-25 07:25:37.698000+00:00   \n1              2023-01-25 07:29:06.531000+00:00   \n2              2023-01-25 07:44:44.764000+00:00   \n3              2023-01-25 08:03:52.710000+00:00   \n4              2023-01-30 23:44:37.666000+00:00   \n5              2023-01-30 23:56:43.072000+00:00   \n6              2023-01-31 01:27:04.480000+00:00   \n7              2023-01-31 01:49:29.525000+00:00   \n8              2023-01-31 23:46:51.645000+00:00   \n9              2023-02-01 00:13:45.860000+00:00   \n\n                          end_time  metrics.F1  metrics.Accuracy  \\\n0 2023-01-25 07:26:40.924000+00:00    0.923077          0.916667   \n1 2023-01-25 07:29:30.749000+00:00    0.923077          0.916667   \n2 2023-01-25 07:47:18.449000+00:00    0.923077          0.916667   \n3 2023-01-25 08:05:12.168000+00:00    0.923077          0.916667   \n4 2023-01-30 23:45:39.182000+00:00    0.923077          0.916667   \n5 2023-01-30 23:58:10.409000+00:00    0.923077          0.916667   \n6 2023-01-31 01:27:04.602000+00:00         NaN               NaN   \n7 2023-01-31 01:50:26.787000+00:00    0.943723          0.942982   \n8 2023-01-31 23:47:55.392000+00:00    0.943723          0.942982   \n9 2023-02-01 00:14:42.903000+00:00         NaN               NaN   \n\n   metrics.Recall  metrics.Precision  ...  params.svc__cache_size  \\\n0        0.974359           0.876923  ...                    None   \n1        0.974359           0.876923  ...                    None   \n2        0.974359           0.876923  ...                    None   \n3        0.974359           0.876923  ...                    None   \n4        0.974359           0.876923  ...                    None   \n5        0.974359           0.876923  ...                    None   \n6             NaN                NaN  ...                    None   \n7        0.931624           0.956140  ...                    None   \n8        0.931624           0.956140  ...                    None   \n9             NaN                NaN  ...                     200   \n\n   params.svc__coef0  params.tfidfvectorizer__sublinear_tf  \\\n0               None                                  None   \n1               None                                  None   \n2               None                                  None   \n3               None                                  None   \n4               None                                  None   \n5               None                                  None   \n6               None                                  None   \n7               None                                  None   \n8               None                                  None   \n9                0.0                                 False   \n\n   params.tfidfvectorizer__max_df  params.tfidfvectorizer__use_idf  \\\n0                            None                             None   \n1                            None                             None   \n2                            None                             None   \n3                            None                             None   \n4                            None                             None   \n5                            None                             None   \n6                            None                             None   \n7                            None                             None   \n8                            None                             None   \n9                             1.0                             True   \n\n   tags.mlflow.user      tags.mlflow.rootRunId       tags.estimator_class  \\\n0  Shiva Chittamuru        red_corn_3nl9hn4yjt                       None   \n1  Shiva Chittamuru         icy_yam_j6ry04g477                       None   \n2  Shiva Chittamuru  musing_cheetah_j1s0jbg0j8                       None   \n3  Shiva Chittamuru   heroic_loquat_fg88yhk7vg                       None   \n4  Shiva Chittamuru  willing_tomato_x25d35yv6j                       None   \n5  Shiva Chittamuru    jovial_snake_4562q6324r                       None   \n6  Shiva Chittamuru    polite_music_zrvjjp1yr1                       None   \n7  Shiva Chittamuru    quirky_frame_gq7wcdkwdw                       None   \n8  Shiva Chittamuru      olive_date_y2qls78vc2                       None   \n9  Shiva Chittamuru   mighty_yogurt_zl9kqrhdzj  sklearn.pipeline.Pipeline   \n\n  tags.estimator_name tags.mlflow.autologging  \n0                None                    None  \n1                None                    None  \n2                None                    None  \n3                None                    None  \n4                None                    None  \n5                None                    None  \n6                None                    None  \n7                None                    None  \n8                None                    None  \n9            Pipeline                 sklearn  \n\n[10 rows x 63 columns]",
            "text/html": "<div>\n<style scoped>\n    .dataframe tbody tr th:only-of-type {\n        vertical-align: middle;\n    }\n\n    .dataframe tbody tr th {\n        vertical-align: top;\n    }\n\n    .dataframe thead th {\n        text-align: right;\n    }\n</style>\n<table border=\"1\" class=\"dataframe\">\n  <thead>\n    <tr style=\"text-align: right;\">\n      <th></th>\n      <th>run_id</th>\n      <th>experiment_id</th>\n      <th>status</th>\n      <th>artifact_uri</th>\n      <th>start_time</th>\n      <th>end_time</th>\n      <th>metrics.F1</th>\n      <th>metrics.Accuracy</th>\n      <th>metrics.Recall</th>\n      <th>metrics.Precision</th>\n      <th>...</th>\n      <th>params.svc__cache_size</th>\n      <th>params.svc__coef0</th>\n      <th>params.tfidfvectorizer__sublinear_tf</th>\n      <th>params.tfidfvectorizer__max_df</th>\n      <th>params.tfidfvectorizer__use_idf</th>\n      <th>tags.mlflow.user</th>\n      <th>tags.mlflow.rootRunId</th>\n      <th>tags.estimator_class</th>\n      <th>tags.estimator_name</th>\n      <th>tags.mlflow.autologging</th>\n    </tr>\n  </thead>\n  <tbody>\n    <tr>\n      <th>0</th>\n      <td>red_corn_3nl9hn4yjt</td>\n      <td>9dd0aa70-931c-4aa8-a5f7-02947c0c04a5</td>\n      <td>FAILED</td>\n      <td></td>\n      <td>2023-01-25 07:25:37.698000+00:00</td>\n      <td>2023-01-25 07:26:40.924000+00:00</td>\n      <td>0.923077</td>\n      <td>0.916667</td>\n      <td>0.974359</td>\n      <td>0.876923</td>\n      <td>...</td>\n      <td>None</td>\n      <td>None</td>\n      <td>None</td>\n      <td>None</td>\n      <td>None</td>\n      <td>Shiva Chittamuru</td>\n      <td>red_corn_3nl9hn4yjt</td>\n      <td>None</td>\n      <td>None</td>\n      <td>None</td>\n    </tr>\n    <tr>\n      <th>1</th>\n      <td>icy_yam_j6ry04g477</td>\n      <td>9dd0aa70-931c-4aa8-a5f7-02947c0c04a5</td>\n      <td>FINISHED</td>\n      <td></td>\n      <td>2023-01-25 07:29:06.531000+00:00</td>\n      <td>2023-01-25 07:29:30.749000+00:00</td>\n      <td>0.923077</td>\n      <td>0.916667</td>\n      <td>0.974359</td>\n      <td>0.876923</td>\n      <td>...</td>\n      <td>None</td>\n      <td>None</td>\n      <td>None</td>\n      <td>None</td>\n      <td>None</td>\n      <td>Shiva Chittamuru</td>\n      <td>icy_yam_j6ry04g477</td>\n      <td>None</td>\n      <td>None</td>\n      <td>None</td>\n    </tr>\n    <tr>\n      <th>2</th>\n      <td>musing_cheetah_j1s0jbg0j8</td>\n      <td>9dd0aa70-931c-4aa8-a5f7-02947c0c04a5</td>\n      <td>FAILED</td>\n      <td></td>\n      <td>2023-01-25 07:44:44.764000+00:00</td>\n      <td>2023-01-25 07:47:18.449000+00:00</td>\n      <td>0.923077</td>\n      <td>0.916667</td>\n      <td>0.974359</td>\n      <td>0.876923</td>\n      <td>...</td>\n      <td>None</td>\n      <td>None</td>\n      <td>None</td>\n      <td>None</td>\n      <td>None</td>\n      <td>Shiva Chittamuru</td>\n      <td>musing_cheetah_j1s0jbg0j8</td>\n      <td>None</td>\n      <td>None</td>\n      <td>None</td>\n    </tr>\n    <tr>\n      <th>3</th>\n      <td>heroic_loquat_fg88yhk7vg</td>\n      <td>9dd0aa70-931c-4aa8-a5f7-02947c0c04a5</td>\n      <td>FAILED</td>\n      <td></td>\n      <td>2023-01-25 08:03:52.710000+00:00</td>\n      <td>2023-01-25 08:05:12.168000+00:00</td>\n      <td>0.923077</td>\n      <td>0.916667</td>\n      <td>0.974359</td>\n      <td>0.876923</td>\n      <td>...</td>\n      <td>None</td>\n      <td>None</td>\n      <td>None</td>\n      <td>None</td>\n      <td>None</td>\n      <td>Shiva Chittamuru</td>\n      <td>heroic_loquat_fg88yhk7vg</td>\n      <td>None</td>\n      <td>None</td>\n      <td>None</td>\n    </tr>\n    <tr>\n      <th>4</th>\n      <td>willing_tomato_x25d35yv6j</td>\n      <td>9dd0aa70-931c-4aa8-a5f7-02947c0c04a5</td>\n      <td>FAILED</td>\n      <td></td>\n      <td>2023-01-30 23:44:37.666000+00:00</td>\n      <td>2023-01-30 23:45:39.182000+00:00</td>\n      <td>0.923077</td>\n      <td>0.916667</td>\n      <td>0.974359</td>\n      <td>0.876923</td>\n      <td>...</td>\n      <td>None</td>\n      <td>None</td>\n      <td>None</td>\n      <td>None</td>\n      <td>None</td>\n      <td>Shiva Chittamuru</td>\n      <td>willing_tomato_x25d35yv6j</td>\n      <td>None</td>\n      <td>None</td>\n      <td>None</td>\n    </tr>\n    <tr>\n      <th>5</th>\n      <td>jovial_snake_4562q6324r</td>\n      <td>9dd0aa70-931c-4aa8-a5f7-02947c0c04a5</td>\n      <td>FAILED</td>\n      <td></td>\n      <td>2023-01-30 23:56:43.072000+00:00</td>\n      <td>2023-01-30 23:58:10.409000+00:00</td>\n      <td>0.923077</td>\n      <td>0.916667</td>\n      <td>0.974359</td>\n      <td>0.876923</td>\n      <td>...</td>\n      <td>None</td>\n      <td>None</td>\n      <td>None</td>\n      <td>None</td>\n      <td>None</td>\n      <td>Shiva Chittamuru</td>\n      <td>jovial_snake_4562q6324r</td>\n      <td>None</td>\n      <td>None</td>\n      <td>None</td>\n    </tr>\n    <tr>\n      <th>6</th>\n      <td>polite_music_zrvjjp1yr1</td>\n      <td>9dd0aa70-931c-4aa8-a5f7-02947c0c04a5</td>\n      <td>KILLED</td>\n      <td></td>\n      <td>2023-01-31 01:27:04.480000+00:00</td>\n      <td>2023-01-31 01:27:04.602000+00:00</td>\n      <td>NaN</td>\n      <td>NaN</td>\n      <td>NaN</td>\n      <td>NaN</td>\n      <td>...</td>\n      <td>None</td>\n      <td>None</td>\n      <td>None</td>\n      <td>None</td>\n      <td>None</td>\n      <td>Shiva Chittamuru</td>\n      <td>polite_music_zrvjjp1yr1</td>\n      <td>None</td>\n      <td>None</td>\n      <td>None</td>\n    </tr>\n    <tr>\n      <th>7</th>\n      <td>quirky_frame_gq7wcdkwdw</td>\n      <td>9dd0aa70-931c-4aa8-a5f7-02947c0c04a5</td>\n      <td>FINISHED</td>\n      <td></td>\n      <td>2023-01-31 01:49:29.525000+00:00</td>\n      <td>2023-01-31 01:50:26.787000+00:00</td>\n      <td>0.943723</td>\n      <td>0.942982</td>\n      <td>0.931624</td>\n      <td>0.956140</td>\n      <td>...</td>\n      <td>None</td>\n      <td>None</td>\n      <td>None</td>\n      <td>None</td>\n      <td>None</td>\n      <td>Shiva Chittamuru</td>\n      <td>quirky_frame_gq7wcdkwdw</td>\n      <td>None</td>\n      <td>None</td>\n      <td>None</td>\n    </tr>\n    <tr>\n      <th>8</th>\n      <td>olive_date_y2qls78vc2</td>\n      <td>9dd0aa70-931c-4aa8-a5f7-02947c0c04a5</td>\n      <td>FINISHED</td>\n      <td></td>\n      <td>2023-01-31 23:46:51.645000+00:00</td>\n      <td>2023-01-31 23:47:55.392000+00:00</td>\n      <td>0.943723</td>\n      <td>0.942982</td>\n      <td>0.931624</td>\n      <td>0.956140</td>\n      <td>...</td>\n      <td>None</td>\n      <td>None</td>\n      <td>None</td>\n      <td>None</td>\n      <td>None</td>\n      <td>Shiva Chittamuru</td>\n      <td>olive_date_y2qls78vc2</td>\n      <td>None</td>\n      <td>None</td>\n      <td>None</td>\n    </tr>\n    <tr>\n      <th>9</th>\n      <td>mighty_yogurt_zl9kqrhdzj</td>\n      <td>9dd0aa70-931c-4aa8-a5f7-02947c0c04a5</td>\n      <td>FINISHED</td>\n      <td></td>\n      <td>2023-02-01 00:13:45.860000+00:00</td>\n      <td>2023-02-01 00:14:42.903000+00:00</td>\n      <td>NaN</td>\n      <td>NaN</td>\n      <td>NaN</td>\n      <td>NaN</td>\n      <td>...</td>\n      <td>200</td>\n      <td>0.0</td>\n      <td>False</td>\n      <td>1.0</td>\n      <td>True</td>\n      <td>Shiva Chittamuru</td>\n      <td>mighty_yogurt_zl9kqrhdzj</td>\n      <td>sklearn.pipeline.Pipeline</td>\n      <td>Pipeline</td>\n      <td>sklearn</td>\n    </tr>\n  </tbody>\n</table>\n<p>10 rows × 63 columns</p>\n</div>"
          },
          "metadata": {}
        }
      ],
      "execution_count": 40,
      "metadata": {
        "jupyter": {
          "source_hidden": false,
          "outputs_hidden": false
        },
        "nteract": {
          "transient": {
            "deleting": false
          }
        },
        "gather": {
          "logged": 1675211319371
        }
      }
    },
    {
      "cell_type": "code",
      "source": [
        "mlflow.search_runs(exp.experiment_id, order_by=[\"start_time DESC\"], max_results=2)"
      ],
      "outputs": [
        {
          "output_type": "execute_result",
          "execution_count": 54,
          "data": {
            "text/plain": "                                 run_id                         experiment_id  \\\n0  820da7fd-6e43-4b64-a704-ba1cb10a5bec  9dd0aa70-931c-4aa8-a5f7-02947c0c04a5   \n1                  icy_beach_5xq4xxk5m8  9dd0aa70-931c-4aa8-a5f7-02947c0c04a5   \n\n     status artifact_uri                       start_time  \\\n0  FINISHED              2023-02-01 00:52:13.483000+00:00   \n1  FINISHED              2023-02-01 00:51:27.570000+00:00   \n\n                          end_time  metrics.training_score  \\\n0 2023-02-01 00:52:19.184000+00:00                     NaN   \n1 2023-02-01 00:52:26.344000+00:00                0.991209   \n\n   metrics.training_accuracy_score  metrics.training_recall_score  \\\n0                              NaN                            NaN   \n1                         0.991209                       0.991209   \n\n   metrics.training_roc_auc_score  ...  params.svc__cache_size  \\\n0                             NaN  ...                    None   \n1                        0.999642  ...                     200   \n\n   params.svc__coef0  params.tfidfvectorizer__sublinear_tf  \\\n0               None                                  None   \n1                0.0                                 False   \n\n  params.tfidfvectorizer__max_df params.tfidfvectorizer__use_idf  \\\n0                           None                            None   \n1                            1.0                            True   \n\n   tags.mlflow.user                 tags.mlflow.rootRunId  \\\n0  Shiva Chittamuru  820da7fd-6e43-4b64-a704-ba1cb10a5bec   \n1  Shiva Chittamuru                  icy_beach_5xq4xxk5m8   \n\n        tags.estimator_class tags.estimator_name tags.mlflow.autologging  \n0                       None                None                    None  \n1  sklearn.pipeline.Pipeline            Pipeline                 sklearn  \n\n[2 rows x 59 columns]",
            "text/html": "<div>\n<style scoped>\n    .dataframe tbody tr th:only-of-type {\n        vertical-align: middle;\n    }\n\n    .dataframe tbody tr th {\n        vertical-align: top;\n    }\n\n    .dataframe thead th {\n        text-align: right;\n    }\n</style>\n<table border=\"1\" class=\"dataframe\">\n  <thead>\n    <tr style=\"text-align: right;\">\n      <th></th>\n      <th>run_id</th>\n      <th>experiment_id</th>\n      <th>status</th>\n      <th>artifact_uri</th>\n      <th>start_time</th>\n      <th>end_time</th>\n      <th>metrics.training_score</th>\n      <th>metrics.training_accuracy_score</th>\n      <th>metrics.training_recall_score</th>\n      <th>metrics.training_roc_auc_score</th>\n      <th>...</th>\n      <th>params.svc__cache_size</th>\n      <th>params.svc__coef0</th>\n      <th>params.tfidfvectorizer__sublinear_tf</th>\n      <th>params.tfidfvectorizer__max_df</th>\n      <th>params.tfidfvectorizer__use_idf</th>\n      <th>tags.mlflow.user</th>\n      <th>tags.mlflow.rootRunId</th>\n      <th>tags.estimator_class</th>\n      <th>tags.estimator_name</th>\n      <th>tags.mlflow.autologging</th>\n    </tr>\n  </thead>\n  <tbody>\n    <tr>\n      <th>0</th>\n      <td>820da7fd-6e43-4b64-a704-ba1cb10a5bec</td>\n      <td>9dd0aa70-931c-4aa8-a5f7-02947c0c04a5</td>\n      <td>FINISHED</td>\n      <td></td>\n      <td>2023-02-01 00:52:13.483000+00:00</td>\n      <td>2023-02-01 00:52:19.184000+00:00</td>\n      <td>NaN</td>\n      <td>NaN</td>\n      <td>NaN</td>\n      <td>NaN</td>\n      <td>...</td>\n      <td>None</td>\n      <td>None</td>\n      <td>None</td>\n      <td>None</td>\n      <td>None</td>\n      <td>Shiva Chittamuru</td>\n      <td>820da7fd-6e43-4b64-a704-ba1cb10a5bec</td>\n      <td>None</td>\n      <td>None</td>\n      <td>None</td>\n    </tr>\n    <tr>\n      <th>1</th>\n      <td>icy_beach_5xq4xxk5m8</td>\n      <td>9dd0aa70-931c-4aa8-a5f7-02947c0c04a5</td>\n      <td>FINISHED</td>\n      <td></td>\n      <td>2023-02-01 00:51:27.570000+00:00</td>\n      <td>2023-02-01 00:52:26.344000+00:00</td>\n      <td>0.991209</td>\n      <td>0.991209</td>\n      <td>0.991209</td>\n      <td>0.999642</td>\n      <td>...</td>\n      <td>200</td>\n      <td>0.0</td>\n      <td>False</td>\n      <td>1.0</td>\n      <td>True</td>\n      <td>Shiva Chittamuru</td>\n      <td>icy_beach_5xq4xxk5m8</td>\n      <td>sklearn.pipeline.Pipeline</td>\n      <td>Pipeline</td>\n      <td>sklearn</td>\n    </tr>\n  </tbody>\n</table>\n<p>2 rows × 59 columns</p>\n</div>"
          },
          "metadata": {}
        }
      ],
      "execution_count": 54,
      "metadata": {
        "jupyter": {
          "source_hidden": false,
          "outputs_hidden": false
        },
        "nteract": {
          "transient": {
            "deleting": false
          }
        },
        "gather": {
          "logged": 1675213227158
        }
      }
    },
    {
      "cell_type": "code",
      "source": [
        "models = ml_client.models.list()\r\n",
        "for model in models:\r\n",
        "    print(model.name)"
      ],
      "outputs": [
        {
          "output_type": "stream",
          "name": "stdout",
          "text": "azureml_055fc717-9adf-4f63-98ee-84f636d326d2_output_mlflow_log_model_268089091\nazureml_055fc717-9adf-4f63-98ee-84f636d326d2_output_mlflow_log_model_923802182\ncredit_defaults_model\nazureml_crimson_date_97vrdsmkls_output_mlflow_log_model_1782224966\nazureml_crimson_date_97vrdsmkls_output_mlflow_log_model_923802182\nazureml_red_corn_3nl9hn4yjt_output_mlflow_log_model_1810962748\nspam-classifier\nazureml_icy_yam_j6ry04g477_output_mlflow_log_model_1236953221\nazureml_musing_cheetah_j1s0jbg0j8_output_mlflow_log_model_696358311\nazureml_musing_cheetah_j1s0jbg0j8_output_mlflow_log_model_1528725128\ncount-vec\nazureml_heroic_loquat_fg88yhk7vg_output_mlflow_log_model_1810962748\nazureml_heroic_loquat_fg88yhk7vg_output_mlflow_log_model_1851332464\nazureml_willing_tomato_x25d35yv6j_output_mlflow_log_model_430544805\nazureml_jovial_snake_4562q6324r_output_mlflow_log_model_1538254128\nazureml_quirky_frame_gq7wcdkwdw_output_mlflow_log_model_497725814\nspam-svm-classifier\ndiabetes-mlflow\nedb0dcf7ef1f92adbbf4aeae11a91c21\nazureml_olive_date_y2qls78vc2_output_mlflow_log_model_1244962605\nazureml_tidy_atemoya_jv19vqxmzq_output_mlflow_log_model_472822921\nazureml_mighty_yogurt_zl9kqrhdzj_output_mlflow_log_model_1809568058\nazureml_icy_beach_5xq4xxk5m8_output_mlflow_log_model_785891514\nazureml_820da7fd-6e43-4b64-a704-ba1cb10a5bec_output_mlflow_log_model_1244962605\n"
        }
      ],
      "execution_count": 52,
      "metadata": {
        "jupyter": {
          "source_hidden": false,
          "outputs_hidden": false
        },
        "nteract": {
          "transient": {
            "deleting": false
          }
        },
        "gather": {
          "logged": 1675213208175
        }
      }
    },
    {
      "cell_type": "code",
      "source": [
        "models = ml_client.models.list(name=model_name)\r\n",
        "for model in models:\r\n",
        "    print(model.version)"
      ],
      "outputs": [
        {
          "output_type": "stream",
          "name": "stdout",
          "text": "3\n2\n1\n"
        }
      ],
      "execution_count": 55,
      "metadata": {
        "jupyter": {
          "source_hidden": false,
          "outputs_hidden": false
        },
        "nteract": {
          "transient": {
            "deleting": false
          }
        },
        "gather": {
          "logged": 1675213246094
        }
      }
    },
    {
      "cell_type": "code",
      "source": [
        "latest_model_version = max(\r\n",
        "    [int(m.version) for m in ml_client.models.list(name=model_name)]\r\n",
        ")\r\n",
        "latest_model_version"
      ],
      "outputs": [
        {
          "output_type": "execute_result",
          "execution_count": 56,
          "data": {
            "text/plain": "3"
          },
          "metadata": {}
        }
      ],
      "execution_count": 56,
      "metadata": {
        "jupyter": {
          "source_hidden": false,
          "outputs_hidden": false
        },
        "nteract": {
          "transient": {
            "deleting": false
          }
        },
        "gather": {
          "logged": 1675213256637
        }
      }
    },
    {
      "cell_type": "code",
      "source": [
        "model = ml_client.models.get(name=model_name, version=latest_model_version)\r\n",
        "model"
      ],
      "outputs": [
        {
          "output_type": "execute_result",
          "execution_count": 57,
          "data": {
            "text/plain": "Model({'job_name': '820da7fd-6e43-4b64-a704-ba1cb10a5bec', 'is_anonymous': False, 'auto_increment_version': False, 'name': 'spam-svm-classifier', 'description': None, 'tags': {}, 'properties': {'flavors.python_function': '{\\n  \"model_path\": \"model.pkl\",\\n  \"loader_module\": \"mlflow.sklearn\",\\n  \"python_version\": \"3.8.15\",\\n  \"env\": \"conda.yaml\"\\n}', 'flavors.sklearn': '{\\n  \"pickled_model\": \"model.pkl\",\\n  \"sklearn_version\": \"0.24.2\",\\n  \"serialization_format\": \"cloudpickle\",\\n  \"code\": null\\n}', 'flavors': 'python_function,sklearn', 'azureml.artifactPrefix': 'ExperimentRun/dcid.820da7fd-6e43-4b64-a704-ba1cb10a5bec/spam-svm-classifier', 'model_json': '{\"run_id\": \"820da7fd-6e43-4b64-a704-ba1cb10a5bec\", \"artifact_path\": \"spam-svm-classifier\", \"utc_time_created\": \"2023-02-01 00:52:13.586210\", \"flavors\": {\"python_function\": {\"model_path\": \"model.pkl\", \"loader_module\": \"mlflow.sklearn\", \"python_version\": \"3.8.15\", \"env\": \"conda.yaml\"}, \"sklearn\": {\"pickled_model\": \"model.pkl\", \"sklearn_version\": \"0.24.2\", \"serialization_format\": \"cloudpickle\", \"code\": null}}, \"model_uuid\": \"296cbf533a454c0f8fe99ecb579eadc6\", \"mlflow_version\": \"1.26.1\"}', 'azureml.storagePath': 'ExperimentRun/dcid.820da7fd-6e43-4b64-a704-ba1cb10a5bec/spam-svm-classifier', 'mlflow.modelSourceUri': 'azureml://experiments/exp-spam-class-mlops-v2/runs/820da7fd-6e43-4b64-a704-ba1cb10a5bec/artifacts/spam-svm-classifier'}, 'id': '/subscriptions/1fad602f-d06f-46af-8f70-78a2c2c53b24/resourceGroups/MLGroup/providers/Microsoft.MachineLearningServices/workspaces/shivamlservice/models/spam-svm-classifier/versions/3', 'Resource__source_path': None, 'base_path': '/mnt/batch/tasks/shared/LS_root/mounts/clusters/shiva-standard-compute/code/Users/shchitt/Spam_Classification_MLOps_V2', 'creation_context': <azure.ai.ml.entities._system_data.SystemData object at 0x7f235e2e67a0>, 'serialize': <msrest.serialization.Serializer object at 0x7f235e2e74f0>, 'version': '3', 'latest_version': None, 'path': 'azureml://subscriptions/1fad602f-d06f-46af-8f70-78a2c2c53b24/resourceGroups/MLGroup/workspaces/shivamlservice/datastores/workspaceartifactstore/paths/ExperimentRun/dcid.820da7fd-6e43-4b64-a704-ba1cb10a5bec/spam-svm-classifier', 'datastore': None, 'utc_time_created': None, 'flavors': {'python_function': {'model_path': 'model.pkl', 'loader_module': 'mlflow.sklearn', 'python_version': '3.8.15', 'env': 'conda.yaml'}, 'sklearn': {'pickled_model': 'model.pkl', 'sklearn_version': '0.24.2', 'serialization_format': 'cloudpickle', 'code': ''}}, 'arm_type': 'model_version', 'type': 'mlflow_model'})"
          },
          "metadata": {}
        }
      ],
      "execution_count": 57,
      "metadata": {
        "jupyter": {
          "source_hidden": false,
          "outputs_hidden": false
        },
        "nteract": {
          "transient": {
            "deleting": false
          }
        },
        "gather": {
          "logged": 1675213258656
        }
      }
    },
    {
      "cell_type": "code",
      "source": [
        "# Creating an Online endpoint\r\n",
        "import datetime\r\n",
        "\r\n",
        "online_endpoint_name = \"spam-endpoint-\" + datetime.datetime.now().strftime(\"%m%d%H%M%f\")\r\n",
        "\r\n",
        "# create an online endpoint\r\n",
        "endpoint = ManagedOnlineEndpoint(\r\n",
        "    name=online_endpoint_name,\r\n",
        "    description=\"Online endpoint for MLflow Spam Classification model\",\r\n",
        "    auth_mode=\"key\",\r\n",
        ")\r\n",
        "\r\n"
      ],
      "outputs": [],
      "execution_count": 58,
      "metadata": {
        "jupyter": {
          "source_hidden": false,
          "outputs_hidden": false
        },
        "nteract": {
          "transient": {
            "deleting": false
          }
        },
        "gather": {
          "logged": 1675213263298
        }
      }
    },
    {
      "cell_type": "code",
      "source": [
        "ml_client.begin_create_or_update(endpoint).result()"
      ],
      "outputs": [
        {
          "output_type": "execute_result",
          "execution_count": 59,
          "data": {
            "text/plain": "ManagedOnlineEndpoint({'public_network_access': 'Enabled', 'provisioning_state': 'Succeeded', 'scoring_uri': 'https://spam-endpoint-02010101254474.westus.inference.ml.azure.com/score', 'openapi_uri': 'https://spam-endpoint-02010101254474.westus.inference.ml.azure.com/swagger.json', 'name': 'spam-endpoint-02010101254474', 'description': 'Online endpoint for MLflow Spam Classification model', 'tags': {}, 'properties': {'azureml.onlineendpointid': '/subscriptions/1fad602f-d06f-46af-8f70-78a2c2c53b24/resourcegroups/mlgroup/providers/microsoft.machinelearningservices/workspaces/shivamlservice/onlineendpoints/spam-endpoint-02010101254474', 'AzureAsyncOperationUri': 'https://management.azure.com/subscriptions/1fad602f-d06f-46af-8f70-78a2c2c53b24/providers/Microsoft.MachineLearningServices/locations/westus/mfeOperationsStatus/oe:f9f840df-5e98-4d0e-9785-1348efabec5f:9bf2ef21-cc19-41ef-8907-a02fb31d5b55?api-version=2022-02-01-preview'}, 'id': '/subscriptions/1fad602f-d06f-46af-8f70-78a2c2c53b24/resourceGroups/MLGroup/providers/Microsoft.MachineLearningServices/workspaces/shivamlservice/onlineEndpoints/spam-endpoint-02010101254474', 'Resource__source_path': None, 'base_path': '/mnt/batch/tasks/shared/LS_root/mounts/clusters/shiva-standard-compute/code/Users/shchitt/Spam_Classification_MLOps_V2', 'creation_context': None, 'serialize': <msrest.serialization.Serializer object at 0x7f235e2e4370>, 'auth_mode': 'key', 'location': 'westus', 'identity': <azure.ai.ml.entities._credentials.IdentityConfiguration object at 0x7f235e2e62c0>, 'traffic': {}, 'mirror_traffic': {}, 'kind': 'Managed'})"
          },
          "metadata": {}
        }
      ],
      "execution_count": 59,
      "metadata": {
        "jupyter": {
          "source_hidden": false,
          "outputs_hidden": false
        },
        "nteract": {
          "transient": {
            "deleting": false
          }
        },
        "gather": {
          "logged": 1675213360204
        }
      }
    },
    {
      "cell_type": "code",
      "source": [
        "blue_deployment = ManagedOnlineDeployment(\r\n",
        "    name=\"blue\",\r\n",
        "    endpoint_name=online_endpoint_name,\r\n",
        "    model=model,\r\n",
        "    instance_type=\"Standard_F4s_v2\",\r\n",
        "    instance_count=1\r\n",
        ")"
      ],
      "outputs": [],
      "execution_count": 60,
      "metadata": {
        "jupyter": {
          "source_hidden": false,
          "outputs_hidden": false
        },
        "nteract": {
          "transient": {
            "deleting": false
          }
        },
        "gather": {
          "logged": 1675213450813
        }
      }
    },
    {
      "cell_type": "code",
      "source": [
        "ml_client.online_deployments.begin_create_or_update(blue_deployment).result()"
      ],
      "outputs": [
        {
          "output_type": "stream",
          "name": "stderr",
          "text": "Check: endpoint spam-endpoint-02010101254474 exists\ndata_collector is not a known attribute of class <class 'azure.ai.ml._restclient.v2022_02_01_preview.models._models_py3.ManagedOnlineDeployment'> and will be ignored\n"
        },
        {
          "output_type": "stream",
          "name": "stdout",
          "text": "......................................................................................"
        },
        {
          "output_type": "execute_result",
          "execution_count": 61,
          "data": {
            "text/plain": "ManagedOnlineDeployment({'private_network_connection': False, 'data_collector': None, 'provisioning_state': 'Succeeded', 'endpoint_name': 'spam-endpoint-02010101254474', 'type': 'Managed', 'name': 'blue', 'description': None, 'tags': {}, 'properties': {'AzureAsyncOperationUri': 'https://management.azure.com/subscriptions/1fad602f-d06f-46af-8f70-78a2c2c53b24/providers/Microsoft.MachineLearningServices/locations/westus/mfeOperationsStatus/od:f9f840df-5e98-4d0e-9785-1348efabec5f:48a32ba4-766e-4a8c-ade9-f2e83760e716?api-version=2022-02-01-preview'}, 'id': '/subscriptions/1fad602f-d06f-46af-8f70-78a2c2c53b24/resourceGroups/MLGroup/providers/Microsoft.MachineLearningServices/workspaces/shivamlservice/onlineEndpoints/spam-endpoint-02010101254474/deployments/blue', 'Resource__source_path': None, 'base_path': '/mnt/batch/tasks/shared/LS_root/mounts/clusters/shiva-standard-compute/code/Users/shchitt/Spam_Classification_MLOps_V2', 'creation_context': None, 'serialize': <msrest.serialization.Serializer object at 0x7f235e2e4c70>, 'model': '/subscriptions/1fad602f-d06f-46af-8f70-78a2c2c53b24/resourceGroups/MLGroup/providers/Microsoft.MachineLearningServices/workspaces/shivamlservice/models/spam-svm-classifier/versions/3', 'code_configuration': None, 'environment': None, 'environment_variables': {}, 'app_insights_enabled': False, 'scale_settings': <azure.ai.ml.entities._deployment.scale_settings.DefaultScaleSettings object at 0x7f235e2e43d0>, 'request_settings': <azure.ai.ml.entities._deployment.deployment_settings.OnlineRequestSettings object at 0x7f235e2e5d80>, 'liveness_probe': <azure.ai.ml.entities._deployment.deployment_settings.ProbeSettings object at 0x7f235e2e5c30>, 'readiness_probe': <azure.ai.ml.entities._deployment.deployment_settings.ProbeSettings object at 0x7f235e2e4310>, 'instance_count': 1, 'arm_type': 'online_deployment', 'model_mount_path': None, 'instance_type': 'Standard_F4s_v2', 'egress_public_network_access': 'Enabled'})"
          },
          "metadata": {}
        }
      ],
      "execution_count": 61,
      "metadata": {
        "jupyter": {
          "source_hidden": false,
          "outputs_hidden": false
        },
        "nteract": {
          "transient": {
            "deleting": false
          }
        },
        "gather": {
          "logged": 1675213913147
        }
      }
    },
    {
      "cell_type": "code",
      "source": [
        "# blue deployment takes 100 traffic\r\n",
        "endpoint.traffic = {\"blue\": 100}\r\n",
        "ml_client.begin_create_or_update(endpoint).result()"
      ],
      "outputs": [
        {
          "output_type": "execute_result",
          "execution_count": 62,
          "data": {
            "text/plain": "ManagedOnlineEndpoint({'public_network_access': 'Enabled', 'provisioning_state': 'Succeeded', 'scoring_uri': 'https://spam-endpoint-02010101254474.westus.inference.ml.azure.com/score', 'openapi_uri': 'https://spam-endpoint-02010101254474.westus.inference.ml.azure.com/swagger.json', 'name': 'spam-endpoint-02010101254474', 'description': 'Online endpoint for MLflow Spam Classification model', 'tags': {}, 'properties': {'azureml.onlineendpointid': '/subscriptions/1fad602f-d06f-46af-8f70-78a2c2c53b24/resourcegroups/mlgroup/providers/microsoft.machinelearningservices/workspaces/shivamlservice/onlineendpoints/spam-endpoint-02010101254474', 'AzureAsyncOperationUri': 'https://management.azure.com/subscriptions/1fad602f-d06f-46af-8f70-78a2c2c53b24/providers/Microsoft.MachineLearningServices/locations/westus/mfeOperationsStatus/oe:f9f840df-5e98-4d0e-9785-1348efabec5f:25d51c2d-4094-41c0-913c-d7767115ac7c?api-version=2022-02-01-preview'}, 'id': '/subscriptions/1fad602f-d06f-46af-8f70-78a2c2c53b24/resourceGroups/MLGroup/providers/Microsoft.MachineLearningServices/workspaces/shivamlservice/onlineEndpoints/spam-endpoint-02010101254474', 'Resource__source_path': None, 'base_path': '/mnt/batch/tasks/shared/LS_root/mounts/clusters/shiva-standard-compute/code/Users/shchitt/Spam_Classification_MLOps_V2', 'creation_context': None, 'serialize': <msrest.serialization.Serializer object at 0x7f235e2e5ea0>, 'auth_mode': 'key', 'location': 'westus', 'identity': <azure.ai.ml.entities._credentials.IdentityConfiguration object at 0x7f235e2e6800>, 'traffic': {'blue': 100}, 'mirror_traffic': {}, 'kind': 'Managed'})"
          },
          "metadata": {}
        }
      ],
      "execution_count": 62,
      "metadata": {
        "jupyter": {
          "source_hidden": false,
          "outputs_hidden": false
        },
        "nteract": {
          "transient": {
            "deleting": false
          }
        },
        "gather": {
          "logged": 1675214848760
        }
      }
    },
    {
      "cell_type": "code",
      "source": [
        "endpoints = ml_client.online_endpoints.list()\r\n",
        "for endp in endpoints:\r\n",
        "    print(endp.name)"
      ],
      "outputs": [
        {
          "output_type": "stream",
          "name": "stdout",
          "text": "spam-endpoint-01310549238425\n"
        }
      ],
      "execution_count": 80,
      "metadata": {
        "jupyter": {
          "source_hidden": false,
          "outputs_hidden": false
        },
        "nteract": {
          "transient": {
            "deleting": false
          }
        },
        "gather": {
          "logged": 1675201225454
        }
      }
    },
    {
      "cell_type": "code",
      "source": [
        "# Get the details for online endpoint\r\n",
        "endpoint = ml_client.online_endpoints.get(name=online_endpoint_name)\r\n",
        "\r\n",
        "# existing traffic details\r\n",
        "print(endpoint.traffic)\r\n",
        "\r\n",
        "# Get the scoring URI\r\n",
        "print(endpoint.scoring_uri)"
      ],
      "outputs": [
        {
          "output_type": "stream",
          "name": "stdout",
          "text": "{'blue': 100}\nhttps://spam-endpoint-02010101254474.westus.inference.ml.azure.com/score\n"
        }
      ],
      "execution_count": 63,
      "metadata": {
        "jupyter": {
          "source_hidden": false,
          "outputs_hidden": false
        },
        "nteract": {
          "transient": {
            "deleting": false
          }
        },
        "gather": {
          "logged": 1675215971861
        }
      }
    },
    {
      "cell_type": "code",
      "source": [
        "data = pd.read_csv(\"./data/retraining_data/Youtube04-Eminem.csv\")\r\n",
        "data = data.rename(columns={\"CONTENT\": \"text\", \"CLASS\": \"label\"})\r\n",
        "data = data.drop(['COMMENT_ID', 'AUTHOR', 'DATE'], axis=1)\r\n",
        "\r\n",
        "data=data.head()\r\n",
        "\r\n",
        "data_X = data['text']\r\n",
        "y = data[\"label\"]"
      ],
      "outputs": [],
      "execution_count": 97,
      "metadata": {
        "jupyter": {
          "source_hidden": false,
          "outputs_hidden": false
        },
        "nteract": {
          "transient": {
            "deleting": false
          }
        },
        "gather": {
          "logged": 1675218799943
        }
      }
    },
    {
      "cell_type": "code",
      "source": [
        "input_payload = data.to_dict(orient = 'split')\r\n",
        "input_payload\r\n"
      ],
      "outputs": [
        {
          "output_type": "execute_result",
          "execution_count": 98,
          "data": {
            "text/plain": "{'index': [0, 1, 2, 3, 4],\n 'columns': ['text', 'label'],\n 'data': [['+447935454150 lovely girl talk to me xxx\\ufeff', 1],\n  ['I always end up coming back to this song<br />\\ufeff', 0],\n  ['my sister just received over 6,500 new <a rel=\"nofollow\" class=\"ot-hashtag\" href=\"https://plus.google.com/s/%23active\">#active</a> youtube views Right now. The only thing she used was pimpmyviews. com\\ufeff',\n   1],\n  ['Cool\\ufeff', 0],\n  ['Hello I&#39;am from Palastine\\ufeff', 1]]}"
          },
          "metadata": {}
        }
      ],
      "execution_count": 98,
      "metadata": {
        "jupyter": {
          "source_hidden": false,
          "outputs_hidden": false
        },
        "nteract": {
          "transient": {
            "deleting": false
          }
        },
        "gather": {
          "logged": 1675218802971
        }
      }
    },
    {
      "cell_type": "code",
      "source": [
        "input_data = json.dumps({\r\n",
        "    'input_data': input_payload,\r\n",
        "})\r\n",
        "\r\n",
        "input_data"
      ],
      "outputs": [
        {
          "output_type": "execute_result",
          "execution_count": 99,
          "data": {
            "text/plain": "'{\"input_data\": {\"index\": [0, 1, 2, 3, 4], \"columns\": [\"text\", \"label\"], \"data\": [[\"+447935454150 lovely girl talk to me xxx\\\\ufeff\", 1], [\"I always end up coming back to this song<br />\\\\ufeff\", 0], [\"my sister just received over 6,500 new <a rel=\\\\\"nofollow\\\\\" class=\\\\\"ot-hashtag\\\\\" href=\\\\\"https://plus.google.com/s/%23active\\\\\">#active</a> youtube views Right now. The only thing she used was pimpmyviews. com\\\\ufeff\", 1], [\"Cool\\\\ufeff\", 0], [\"Hello I&#39;am from Palastine\\\\ufeff\", 1]]}}'"
          },
          "metadata": {}
        }
      ],
      "execution_count": 99,
      "metadata": {
        "jupyter": {
          "source_hidden": false,
          "outputs_hidden": false
        },
        "nteract": {
          "transient": {
            "deleting": false
          }
        },
        "gather": {
          "logged": 1675218804836
        }
      }
    },
    {
      "cell_type": "code",
      "source": [
        "data = ['I love that song', 'my sister just received over 6,500 new followers', 'Amen!']\r\n",
        "\r\n",
        "input_data = json.dumps({\r\n",
        "    'input_data': data,\r\n",
        "})\r\n",
        "\r\n",
        "input_data\r\n"
      ],
      "outputs": [
        {
          "output_type": "execute_result",
          "execution_count": 117,
          "data": {
            "text/plain": "'{\"input_data\": [\"I love that song\", \"my sister just received over 6,500 new followers\", \"Amen!\"]}'"
          },
          "metadata": {}
        }
      ],
      "execution_count": 117,
      "metadata": {
        "jupyter": {
          "source_hidden": false,
          "outputs_hidden": false
        },
        "nteract": {
          "transient": {
            "deleting": false
          }
        },
        "gather": {
          "logged": 1675220413420
        }
      }
    },
    {
      "cell_type": "code",
      "source": [
        "with open(\"sample.json\", \"w\") as outfile:\r\n",
        "    outfile.write(input_data)"
      ],
      "outputs": [],
      "execution_count": 113,
      "metadata": {
        "jupyter": {
          "source_hidden": false,
          "outputs_hidden": false
        },
        "nteract": {
          "transient": {
            "deleting": false
          }
        },
        "gather": {
          "logged": 1675219297237
        }
      }
    },
    {
      "cell_type": "code",
      "source": [
        "response = ml_client.online_endpoints.invoke(\r\n",
        "    endpoint_name=online_endpoint_name,\r\n",
        "    deployment_name=\"blue\",\r\n",
        "    request_file=\"sample.json\",\r\n",
        ")\r\n",
        "\r\n",
        "response"
      ],
      "outputs": [
        {
          "output_type": "execute_result",
          "execution_count": 114,
          "data": {
            "text/plain": "'[0, 1, 0]'"
          },
          "metadata": {}
        }
      ],
      "execution_count": 114,
      "metadata": {
        "jupyter": {
          "source_hidden": false,
          "outputs_hidden": false
        },
        "nteract": {
          "transient": {
            "deleting": false
          }
        },
        "gather": {
          "logged": 1675219306763
        }
      }
    },
    {
      "cell_type": "code",
      "source": [
        "result = np.asarray(np.matrix(response)) \r\n",
        "result"
      ],
      "outputs": [
        {
          "output_type": "execute_result",
          "execution_count": 116,
          "data": {
            "text/plain": "array([[0, 1, 0]])"
          },
          "metadata": {}
        }
      ],
      "execution_count": 116,
      "metadata": {
        "jupyter": {
          "source_hidden": false,
          "outputs_hidden": false
        },
        "nteract": {
          "transient": {
            "deleting": false
          }
        },
        "gather": {
          "logged": 1675219317427
        }
      }
    }
  ],
  "metadata": {
    "kernelspec": {
      "name": "python310-sdkv2",
      "language": "python",
      "display_name": "Python 3.10 - SDK V2"
    },
    "language_info": {
      "name": "python",
      "version": "3.10.6",
      "mimetype": "text/x-python",
      "codemirror_mode": {
        "name": "ipython",
        "version": 3
      },
      "pygments_lexer": "ipython3",
      "nbconvert_exporter": "python",
      "file_extension": ".py"
    },
    "nteract": {
      "version": "nteract-front-end@1.0.0"
    },
    "kernel_info": {
      "name": "python310-sdkv2"
    },
    "microsoft": {
      "host": {
        "AzureML": {
          "notebookHasBeenCompleted": true
        }
      }
    }
  },
  "nbformat": 4,
  "nbformat_minor": 4
}